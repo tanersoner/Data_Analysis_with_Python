{
 "cells": [
  {
   "cell_type": "markdown",
   "metadata": {
    "id": "NbcAJgaKma1Q"
   },
   "source": [
    "___\n",
    "\n",
    "\n",
    "<p style=\"text-align: center;\"><img src=\"https://docs.google.com/uc?id=1lY0Uj5R04yMY3-ZppPWxqCr5pvBLYPnV\" class=\"img-fluid\" alt=\"Rossum\"></p>\n",
    "\n",
    "___"
   ]
  },
  {
   "cell_type": "markdown",
   "metadata": {
    "id": "-XV_7TP2ma1Y"
   },
   "source": [
    "<h1><p style=\"text-align: center;\">NumPy Lesson, Session - 2 (Part-2) </p><h1>"
   ]
  },
  {
   "cell_type": "markdown",
   "metadata": {
    "id": "_xw_3dwCma1a"
   },
   "source": [
    "# NumPy Indexing and Selection\n",
    "\n",
    "In this lecture we will discuss how to select elements or groups of elements from an array."
   ]
  },
  {
   "cell_type": "code",
   "execution_count": null,
   "metadata": {
    "id": "8QUiswRLma1c",
    "scrolled": true
   },
   "outputs": [],
   "source": [
    "import numpy as np"
   ]
  },
  {
   "cell_type": "code",
   "execution_count": null,
   "metadata": {
    "colab": {
     "base_uri": "https://localhost:8080/"
    },
    "collapsed": true,
    "executionInfo": {
     "elapsed": 772,
     "status": "ok",
     "timestamp": 1614972043005,
     "user": {
      "displayName": "Orion Cloud",
      "photoUrl": "",
      "userId": "13399699001942214669"
     },
     "user_tz": -180
    },
    "id": "VlSFjRk9ma1d",
    "jupyter": {
     "outputs_hidden": true
    },
    "outputId": "233d9ffa-b302-4238-c2df-161ea7e2a773",
    "scrolled": true
   },
   "outputs": [
    {
     "data": {
      "text/plain": [
       "array([ 0,  1,  2,  3,  4,  5,  6,  7,  8,  9, 10])"
      ]
     },
     "execution_count": 2,
     "metadata": {
      "tags": []
     },
     "output_type": "execute_result"
    }
   ],
   "source": [
    "arr = np.arange(0,11)\n",
    "arr"
   ]
  },
  {
   "cell_type": "markdown",
   "metadata": {
    "id": "44i_fyMnma1g"
   },
   "source": [
    "## Bracket Indexing and Selection\n",
    "The simplest way to pick one or some elements of an array looks very similar to python lists:"
   ]
  },
  {
   "cell_type": "code",
   "execution_count": null,
   "metadata": {
    "colab": {
     "base_uri": "https://localhost:8080/"
    },
    "collapsed": true,
    "executionInfo": {
     "elapsed": 816,
     "status": "ok",
     "timestamp": 1614972055253,
     "user": {
      "displayName": "Orion Cloud",
      "photoUrl": "",
      "userId": "13399699001942214669"
     },
     "user_tz": -180
    },
    "id": "oj6E9-lema1i",
    "jupyter": {
     "outputs_hidden": true
    },
    "outputId": "05b741ae-bc79-421b-96f1-0b49c2c1e9d2",
    "scrolled": true
   },
   "outputs": [
    {
     "data": {
      "text/plain": [
       "8"
      ]
     },
     "execution_count": 3,
     "metadata": {
      "tags": []
     },
     "output_type": "execute_result"
    }
   ],
   "source": [
    "arr[8]"
   ]
  },
  {
   "cell_type": "code",
   "execution_count": null,
   "metadata": {
    "colab": {
     "base_uri": "https://localhost:8080/"
    },
    "collapsed": true,
    "executionInfo": {
     "elapsed": 795,
     "status": "ok",
     "timestamp": 1614972059019,
     "user": {
      "displayName": "Orion Cloud",
      "photoUrl": "",
      "userId": "13399699001942214669"
     },
     "user_tz": -180
    },
    "id": "153Qj2vgma1k",
    "jupyter": {
     "outputs_hidden": true
    },
    "outputId": "3b603a3f-0a80-4289-bd09-1f3dafc76774",
    "scrolled": true
   },
   "outputs": [
    {
     "data": {
      "text/plain": [
       "10"
      ]
     },
     "execution_count": 4,
     "metadata": {
      "tags": []
     },
     "output_type": "execute_result"
    }
   ],
   "source": [
    "arr[-1]"
   ]
  },
  {
   "cell_type": "code",
   "execution_count": null,
   "metadata": {
    "colab": {
     "base_uri": "https://localhost:8080/"
    },
    "collapsed": true,
    "executionInfo": {
     "elapsed": 843,
     "status": "ok",
     "timestamp": 1614972064559,
     "user": {
      "displayName": "Orion Cloud",
      "photoUrl": "",
      "userId": "13399699001942214669"
     },
     "user_tz": -180
    },
    "id": "DphBBs7Yma1m",
    "jupyter": {
     "outputs_hidden": true
    },
    "outputId": "7e885972-e89a-4c82-ab49-0dbc38c65d36",
    "scrolled": true
   },
   "outputs": [
    {
     "data": {
      "text/plain": [
       "array([1, 2, 3, 4])"
      ]
     },
     "execution_count": 5,
     "metadata": {
      "tags": []
     },
     "output_type": "execute_result"
    }
   ],
   "source": [
    "arr[1:5] # start :inclusive / stop : exclusive"
   ]
  },
  {
   "cell_type": "code",
   "execution_count": null,
   "metadata": {
    "colab": {
     "base_uri": "https://localhost:8080/"
    },
    "collapsed": true,
    "executionInfo": {
     "elapsed": 786,
     "status": "ok",
     "timestamp": 1614972075094,
     "user": {
      "displayName": "Orion Cloud",
      "photoUrl": "",
      "userId": "13399699001942214669"
     },
     "user_tz": -180
    },
    "id": "3xJNZULhma1o",
    "jupyter": {
     "outputs_hidden": true
    },
    "outputId": "005c21e7-2768-45b7-dfa1-18bddbfacd75",
    "scrolled": true
   },
   "outputs": [
    {
     "data": {
      "text/plain": [
       "array([0, 1, 2, 3, 4])"
      ]
     },
     "execution_count": 6,
     "metadata": {
      "tags": []
     },
     "output_type": "execute_result"
    }
   ],
   "source": [
    "arr[0:5]"
   ]
  },
  {
   "cell_type": "code",
   "execution_count": null,
   "metadata": {
    "collapsed": true,
    "id": "s-ECkQUema1q",
    "jupyter": {
     "outputs_hidden": true
    },
    "scrolled": true
   },
   "outputs": [],
   "source": [
    "#arr[start:stop:step]"
   ]
  },
  {
   "cell_type": "code",
   "execution_count": null,
   "metadata": {
    "colab": {
     "base_uri": "https://localhost:8080/"
    },
    "collapsed": true,
    "executionInfo": {
     "elapsed": 804,
     "status": "ok",
     "timestamp": 1614972103613,
     "user": {
      "displayName": "Orion Cloud",
      "photoUrl": "",
      "userId": "13399699001942214669"
     },
     "user_tz": -180
    },
    "id": "eF5mECI9ma1r",
    "jupyter": {
     "outputs_hidden": true
    },
    "outputId": "ec9e047c-18fc-4b86-fedd-1cbc9fe019d2",
    "scrolled": true
   },
   "outputs": [
    {
     "data": {
      "text/plain": [
       "array([1, 3, 5, 7, 9])"
      ]
     },
     "execution_count": 7,
     "metadata": {
      "tags": []
     },
     "output_type": "execute_result"
    }
   ],
   "source": [
    "arr[1::2]"
   ]
  },
  {
   "cell_type": "code",
   "execution_count": null,
   "metadata": {
    "colab": {
     "base_uri": "https://localhost:8080/"
    },
    "collapsed": true,
    "executionInfo": {
     "elapsed": 766,
     "status": "ok",
     "timestamp": 1614972127631,
     "user": {
      "displayName": "Orion Cloud",
      "photoUrl": "",
      "userId": "13399699001942214669"
     },
     "user_tz": -180
    },
    "id": "X1lzpZnKma1s",
    "jupyter": {
     "outputs_hidden": true
    },
    "outputId": "66ce9c22-c68d-4d9c-d521-2a2941d5950a",
    "scrolled": true
   },
   "outputs": [
    {
     "data": {
      "text/plain": [
       "array([ 0,  2,  4,  6,  8, 10])"
      ]
     },
     "execution_count": 8,
     "metadata": {
      "tags": []
     },
     "output_type": "execute_result"
    }
   ],
   "source": [
    "arr[0::2]"
   ]
  },
  {
   "cell_type": "markdown",
   "metadata": {
    "id": "Q7mGUF_-ma1u"
   },
   "source": [
    "## Broadcasting\n",
    "\n",
    "Numpy arrays differ from a normal Python list because of their ability to broadcast:"
   ]
  },
  {
   "cell_type": "code",
   "execution_count": null,
   "metadata": {
    "collapsed": true,
    "id": "D_syl1bXowMQ",
    "jupyter": {
     "outputs_hidden": true
    },
    "scrolled": true
   },
   "outputs": [],
   "source": [
    "for i in range(5):\n",
    "  arr[i] = 41"
   ]
  },
  {
   "cell_type": "code",
   "execution_count": null,
   "metadata": {
    "colab": {
     "base_uri": "https://localhost:8080/"
    },
    "collapsed": true,
    "executionInfo": {
     "elapsed": 863,
     "status": "ok",
     "timestamp": 1614972174701,
     "user": {
      "displayName": "Orion Cloud",
      "photoUrl": "",
      "userId": "13399699001942214669"
     },
     "user_tz": -180
    },
    "id": "qqdpzwEFpIy_",
    "jupyter": {
     "outputs_hidden": true
    },
    "outputId": "28f69838-5548-4220-a1ba-e91f35577b64",
    "scrolled": true
   },
   "outputs": [
    {
     "data": {
      "text/plain": [
       "array([41, 41, 41, 41, 41,  5,  6,  7,  8,  9, 10])"
      ]
     },
     "execution_count": 10,
     "metadata": {
      "tags": []
     },
     "output_type": "execute_result"
    }
   ],
   "source": [
    "arr"
   ]
  },
  {
   "cell_type": "code",
   "execution_count": null,
   "metadata": {
    "colab": {
     "base_uri": "https://localhost:8080/"
    },
    "collapsed": true,
    "executionInfo": {
     "elapsed": 738,
     "status": "ok",
     "timestamp": 1614972191035,
     "user": {
      "displayName": "Orion Cloud",
      "photoUrl": "",
      "userId": "13399699001942214669"
     },
     "user_tz": -180
    },
    "id": "WP9tJlYqma1v",
    "jupyter": {
     "outputs_hidden": true
    },
    "outputId": "921e6572-f2a9-4ce5-8a69-28449b7544b2",
    "scrolled": true
   },
   "outputs": [
    {
     "data": {
      "text/plain": [
       "array([100, 100, 100, 100, 100,   5,   6,   7,   8,   9,  10])"
      ]
     },
     "execution_count": 11,
     "metadata": {
      "tags": []
     },
     "output_type": "execute_result"
    }
   ],
   "source": [
    "arr[0:5] = 100\n",
    "\n",
    "\n",
    "arr"
   ]
  },
  {
   "cell_type": "code",
   "execution_count": null,
   "metadata": {
    "collapsed": true,
    "id": "8nznnnL_ma1w",
    "jupyter": {
     "outputs_hidden": true
    },
    "scrolled": true
   },
   "outputs": [],
   "source": [
    "a = [0,  2,  4,  6,  8, 10]"
   ]
  },
  {
   "cell_type": "code",
   "execution_count": null,
   "metadata": {
    "collapsed": true,
    "id": "Ikjqt14oma1x",
    "jupyter": {
     "outputs_hidden": true
    },
    "outputId": "5452833f-d5bb-48e7-a2ce-25e19fd4925a",
    "scrolled": true
   },
   "outputs": [
    {
     "ename": "TypeError",
     "evalue": "can only assign an iterable",
     "output_type": "error",
     "traceback": [
      "\u001b[0;31m---------------------------------------------------------------------------\u001b[0m",
      "\u001b[0;31mTypeError\u001b[0m                                 Traceback (most recent call last)",
      "\u001b[0;32m<ipython-input-13-1f9bfd54a088>\u001b[0m in \u001b[0;36m<module>\u001b[0;34m\u001b[0m\n\u001b[0;32m----> 1\u001b[0;31m \u001b[0ma\u001b[0m\u001b[0;34m[\u001b[0m\u001b[0;36m0\u001b[0m\u001b[0;34m:\u001b[0m\u001b[0;36m3\u001b[0m\u001b[0;34m]\u001b[0m \u001b[0;34m=\u001b[0m \u001b[0;36m100\u001b[0m\u001b[0;34m\u001b[0m\u001b[0;34m\u001b[0m\u001b[0m\n\u001b[0m",
      "\u001b[0;31mTypeError\u001b[0m: can only assign an iterable"
     ]
    }
   ],
   "source": [
    "#a[0:3] = 100"
   ]
  },
  {
   "cell_type": "code",
   "execution_count": null,
   "metadata": {
    "colab": {
     "base_uri": "https://localhost:8080/"
    },
    "collapsed": true,
    "executionInfo": {
     "elapsed": 793,
     "status": "ok",
     "timestamp": 1614972260228,
     "user": {
      "displayName": "Orion Cloud",
      "photoUrl": "",
      "userId": "13399699001942214669"
     },
     "user_tz": -180
    },
    "id": "vajub5B3ma1z",
    "jupyter": {
     "outputs_hidden": true
    },
    "outputId": "cf5499a0-e96a-4bf8-ee8d-4093d0151010",
    "scrolled": true
   },
   "outputs": [
    {
     "data": {
      "text/plain": [
       "[100, 100, 100, 6, 8, 10]"
      ]
     },
     "execution_count": 13,
     "metadata": {
      "tags": []
     },
     "output_type": "execute_result"
    }
   ],
   "source": [
    "a[0:3] = [100,100,100]\n",
    "a"
   ]
  },
  {
   "cell_type": "code",
   "execution_count": null,
   "metadata": {
    "colab": {
     "base_uri": "https://localhost:8080/"
    },
    "collapsed": true,
    "executionInfo": {
     "elapsed": 808,
     "status": "ok",
     "timestamp": 1614972274975,
     "user": {
      "displayName": "Orion Cloud",
      "photoUrl": "",
      "userId": "13399699001942214669"
     },
     "user_tz": -180
    },
    "id": "aEvpbPGjma10",
    "jupyter": {
     "outputs_hidden": true
    },
    "outputId": "93a00131-ba9c-4a69-dcc2-4a4e514e1200",
    "scrolled": true
   },
   "outputs": [
    {
     "data": {
      "text/plain": [
       "array([ 0,  1,  2,  3,  4,  5,  6,  7,  8,  9, 10])"
      ]
     },
     "execution_count": 14,
     "metadata": {
      "tags": []
     },
     "output_type": "execute_result"
    }
   ],
   "source": [
    "arr = np.arange(0,11)\n",
    "\n",
    "arr"
   ]
  },
  {
   "cell_type": "code",
   "execution_count": null,
   "metadata": {
    "colab": {
     "base_uri": "https://localhost:8080/"
    },
    "collapsed": true,
    "executionInfo": {
     "elapsed": 812,
     "status": "ok",
     "timestamp": 1614972286176,
     "user": {
      "displayName": "Orion Cloud",
      "photoUrl": "",
      "userId": "13399699001942214669"
     },
     "user_tz": -180
    },
    "id": "PJNA4YHhma11",
    "jupyter": {
     "outputs_hidden": true
    },
    "outputId": "a7c46269-84ce-41db-fa6b-960ee8b734e0",
    "scrolled": true
   },
   "outputs": [
    {
     "data": {
      "text/plain": [
       "array([0, 1, 2, 3, 4, 5])"
      ]
     },
     "execution_count": 15,
     "metadata": {
      "tags": []
     },
     "output_type": "execute_result"
    }
   ],
   "source": [
    "slice_of_arr = arr[0:6]\n",
    "\n",
    "slice_of_arr"
   ]
  },
  {
   "cell_type": "code",
   "execution_count": null,
   "metadata": {
    "colab": {
     "base_uri": "https://localhost:8080/"
    },
    "collapsed": true,
    "executionInfo": {
     "elapsed": 827,
     "status": "ok",
     "timestamp": 1614972292231,
     "user": {
      "displayName": "Orion Cloud",
      "photoUrl": "",
      "userId": "13399699001942214669"
     },
     "user_tz": -180
    },
    "id": "sgn_PMMnma12",
    "jupyter": {
     "outputs_hidden": true
    },
    "outputId": "2b77a04d-2917-4483-c4de-6e90a369bb13",
    "scrolled": true
   },
   "outputs": [
    {
     "data": {
      "text/plain": [
       "array([99, 99, 99, 99, 99, 99])"
      ]
     },
     "execution_count": 16,
     "metadata": {
      "tags": []
     },
     "output_type": "execute_result"
    }
   ],
   "source": [
    "slice_of_arr[:] = 99\n",
    "\n",
    "slice_of_arr"
   ]
  },
  {
   "cell_type": "code",
   "execution_count": null,
   "metadata": {
    "colab": {
     "base_uri": "https://localhost:8080/"
    },
    "collapsed": true,
    "executionInfo": {
     "elapsed": 902,
     "status": "ok",
     "timestamp": 1614972340014,
     "user": {
      "displayName": "Orion Cloud",
      "photoUrl": "",
      "userId": "13399699001942214669"
     },
     "user_tz": -180
    },
    "id": "kC6Oudnkma14",
    "jupyter": {
     "outputs_hidden": true
    },
    "outputId": "dd2061ae-d418-4e27-c6c3-735ea05d983b",
    "scrolled": true
   },
   "outputs": [
    {
     "data": {
      "text/plain": [
       "array([99, 99, 99, 99, 99, 99,  6,  7,  8,  9, 10])"
      ]
     },
     "execution_count": 17,
     "metadata": {
      "tags": []
     },
     "output_type": "execute_result"
    }
   ],
   "source": [
    "arr"
   ]
  },
  {
   "cell_type": "code",
   "execution_count": null,
   "metadata": {
    "colab": {
     "base_uri": "https://localhost:8080/"
    },
    "collapsed": true,
    "executionInfo": {
     "elapsed": 844,
     "status": "ok",
     "timestamp": 1614972356059,
     "user": {
      "displayName": "Orion Cloud",
      "photoUrl": "",
      "userId": "13399699001942214669"
     },
     "user_tz": -180
    },
    "id": "4moksUw5ma16",
    "jupyter": {
     "outputs_hidden": true
    },
    "outputId": "79fd5c2a-e160-4a45-a210-35f143dfeaff",
    "scrolled": true
   },
   "outputs": [
    {
     "data": {
      "text/plain": [
       "array([99, 99, 99, 99, 99, 99,  6,  7,  8,  9, 10])"
      ]
     },
     "execution_count": 18,
     "metadata": {
      "tags": []
     },
     "output_type": "execute_result"
    }
   ],
   "source": [
    "arr_copy = arr.copy()\n",
    "\n",
    "arr_copy"
   ]
  },
  {
   "cell_type": "code",
   "execution_count": null,
   "metadata": {
    "collapsed": true,
    "id": "uponeh5pma18",
    "jupyter": {
     "outputs_hidden": true
    },
    "scrolled": true
   },
   "outputs": [],
   "source": [
    "arr_copy[0:6] = [0,1,2,3,4,5]\n"
   ]
  },
  {
   "cell_type": "code",
   "execution_count": null,
   "metadata": {
    "colab": {
     "base_uri": "https://localhost:8080/"
    },
    "collapsed": true,
    "executionInfo": {
     "elapsed": 823,
     "status": "ok",
     "timestamp": 1614972361221,
     "user": {
      "displayName": "Orion Cloud",
      "photoUrl": "",
      "userId": "13399699001942214669"
     },
     "user_tz": -180
    },
    "id": "x8dKqJGmma19",
    "jupyter": {
     "outputs_hidden": true
    },
    "outputId": "45ff2f96-f8e3-4d9c-8c16-7ede19c4081f",
    "scrolled": true
   },
   "outputs": [
    {
     "data": {
      "text/plain": [
       "array([ 0,  1,  2,  3,  4,  5,  6,  7,  8,  9, 10])"
      ]
     },
     "execution_count": 20,
     "metadata": {
      "tags": []
     },
     "output_type": "execute_result"
    }
   ],
   "source": [
    "arr_copy"
   ]
  },
  {
   "cell_type": "code",
   "execution_count": null,
   "metadata": {
    "colab": {
     "base_uri": "https://localhost:8080/"
    },
    "collapsed": true,
    "executionInfo": {
     "elapsed": 872,
     "status": "ok",
     "timestamp": 1614972363968,
     "user": {
      "displayName": "Orion Cloud",
      "photoUrl": "",
      "userId": "13399699001942214669"
     },
     "user_tz": -180
    },
    "id": "gRW592Sima1-",
    "jupyter": {
     "outputs_hidden": true
    },
    "outputId": "ff76f98a-abfa-4a70-a512-9ab8a849adc2",
    "scrolled": true
   },
   "outputs": [
    {
     "data": {
      "text/plain": [
       "array([99, 99, 99, 99, 99, 99,  6,  7,  8,  9, 10])"
      ]
     },
     "execution_count": 21,
     "metadata": {
      "tags": []
     },
     "output_type": "execute_result"
    }
   ],
   "source": [
    "arr"
   ]
  },
  {
   "cell_type": "markdown",
   "metadata": {
    "id": "d_22ppBAma2A"
   },
   "source": [
    "## Indexing a 2D array (matrices)\n",
    "\n",
    "<p>The general format is <b>arr_2d[row][col]</b> or <b>arr_2d[row,col]</b>. I recommend usually using the comma notation for clarity.</p>"
   ]
  },
  {
   "cell_type": "code",
   "execution_count": null,
   "metadata": {
    "colab": {
     "base_uri": "https://localhost:8080/"
    },
    "collapsed": true,
    "executionInfo": {
     "elapsed": 841,
     "status": "ok",
     "timestamp": 1614972388097,
     "user": {
      "displayName": "Orion Cloud",
      "photoUrl": "",
      "userId": "13399699001942214669"
     },
     "user_tz": -180
    },
    "id": "UNwt37vCma2C",
    "jupyter": {
     "outputs_hidden": true
    },
    "outputId": "0917c4a3-50b8-49c5-a436-7c0df9441190",
    "scrolled": true
   },
   "outputs": [
    {
     "data": {
      "text/plain": [
       "array([[ 5, 10, 15],\n",
       "       [20, 25, 30],\n",
       "       [35, 40, 45]])"
      ]
     },
     "execution_count": 22,
     "metadata": {
      "tags": []
     },
     "output_type": "execute_result"
    }
   ],
   "source": [
    "arr_2d = np.array([[5,10,15],[20,25,30],[35,40,45]])\n",
    "arr_2d"
   ]
  },
  {
   "cell_type": "code",
   "execution_count": null,
   "metadata": {
    "colab": {
     "base_uri": "https://localhost:8080/"
    },
    "collapsed": true,
    "executionInfo": {
     "elapsed": 826,
     "status": "ok",
     "timestamp": 1614972402832,
     "user": {
      "displayName": "Orion Cloud",
      "photoUrl": "",
      "userId": "13399699001942214669"
     },
     "user_tz": -180
    },
    "id": "l5lH8o4Nma2E",
    "jupyter": {
     "outputs_hidden": true
    },
    "outputId": "d825d490-25bd-4b82-9e0b-be61d361c0dc",
    "scrolled": true
   },
   "outputs": [
    {
     "data": {
      "text/plain": [
       "array([35, 40, 45])"
      ]
     },
     "execution_count": 23,
     "metadata": {
      "tags": []
     },
     "output_type": "execute_result"
    }
   ],
   "source": [
    "arr_2d[2]"
   ]
  },
  {
   "cell_type": "code",
   "execution_count": null,
   "metadata": {
    "colab": {
     "base_uri": "https://localhost:8080/"
    },
    "collapsed": true,
    "executionInfo": {
     "elapsed": 829,
     "status": "ok",
     "timestamp": 1614972420732,
     "user": {
      "displayName": "Orion Cloud",
      "photoUrl": "",
      "userId": "13399699001942214669"
     },
     "user_tz": -180
    },
    "id": "dCFLdlKmma2F",
    "jupyter": {
     "outputs_hidden": true
    },
    "outputId": "6ef4c8e1-2c7a-4763-b930-48c8f57b966c",
    "scrolled": true
   },
   "outputs": [
    {
     "data": {
      "text/plain": [
       "25"
      ]
     },
     "execution_count": 24,
     "metadata": {
      "tags": []
     },
     "output_type": "execute_result"
    }
   ],
   "source": [
    "arr_2d[1][1]"
   ]
  },
  {
   "cell_type": "code",
   "execution_count": null,
   "metadata": {
    "colab": {
     "base_uri": "https://localhost:8080/"
    },
    "collapsed": true,
    "executionInfo": {
     "elapsed": 812,
     "status": "ok",
     "timestamp": 1614972426617,
     "user": {
      "displayName": "Orion Cloud",
      "photoUrl": "",
      "userId": "13399699001942214669"
     },
     "user_tz": -180
    },
    "id": "SHCTRZpvma2G",
    "jupyter": {
     "outputs_hidden": true
    },
    "outputId": "d71b124f-e137-4674-ca02-448a2ebdfb1d",
    "scrolled": true
   },
   "outputs": [
    {
     "data": {
      "text/plain": [
       "25"
      ]
     },
     "execution_count": 25,
     "metadata": {
      "tags": []
     },
     "output_type": "execute_result"
    }
   ],
   "source": [
    "arr_2d[1,1]"
   ]
  },
  {
   "cell_type": "code",
   "execution_count": null,
   "metadata": {
    "colab": {
     "base_uri": "https://localhost:8080/"
    },
    "collapsed": true,
    "executionInfo": {
     "elapsed": 858,
     "status": "ok",
     "timestamp": 1614972500004,
     "user": {
      "displayName": "Orion Cloud",
      "photoUrl": "",
      "userId": "13399699001942214669"
     },
     "user_tz": -180
    },
    "id": "rwZEy6UNma2H",
    "jupyter": {
     "outputs_hidden": true
    },
    "outputId": "b09863ee-a035-498c-9423-14576f94deb9",
    "scrolled": true
   },
   "outputs": [
    {
     "data": {
      "text/plain": [
       "array([[ 5, 10],\n",
       "       [20, 25]])"
      ]
     },
     "execution_count": 26,
     "metadata": {
      "tags": []
     },
     "output_type": "execute_result"
    }
   ],
   "source": [
    "arr_2d[:2,:2]  # What is the output?"
   ]
  },
  {
   "cell_type": "code",
   "execution_count": null,
   "metadata": {
    "colab": {
     "base_uri": "https://localhost:8080/"
    },
    "collapsed": true,
    "executionInfo": {
     "elapsed": 813,
     "status": "ok",
     "timestamp": 1614972545911,
     "user": {
      "displayName": "Orion Cloud",
      "photoUrl": "",
      "userId": "13399699001942214669"
     },
     "user_tz": -180
    },
    "id": "V7z96Km4ma2I",
    "jupyter": {
     "outputs_hidden": true
    },
    "outputId": "50cc8990-18bc-4b27-d1bf-85e50d93505b",
    "scrolled": true
   },
   "outputs": [
    {
     "data": {
      "text/plain": [
       "array([15, 30, 45])"
      ]
     },
     "execution_count": 27,
     "metadata": {
      "tags": []
     },
     "output_type": "execute_result"
    }
   ],
   "source": [
    "arr_2d[:,2]  # What is the output?"
   ]
  },
  {
   "cell_type": "code",
   "execution_count": null,
   "metadata": {
    "colab": {
     "base_uri": "https://localhost:8080/"
    },
    "collapsed": true,
    "executionInfo": {
     "elapsed": 943,
     "status": "ok",
     "timestamp": 1614972556972,
     "user": {
      "displayName": "Orion Cloud",
      "photoUrl": "",
      "userId": "13399699001942214669"
     },
     "user_tz": -180
    },
    "id": "R4J8yTHPma2L",
    "jupyter": {
     "outputs_hidden": true
    },
    "outputId": "388ff0ba-b47b-44f7-dfdb-47344d040ed0",
    "scrolled": true
   },
   "outputs": [
    {
     "data": {
      "text/plain": [
       "array([[ 5, 10, 15],\n",
       "       [20, 55, 30],\n",
       "       [35, 40, 45]])"
      ]
     },
     "execution_count": 28,
     "metadata": {
      "tags": []
     },
     "output_type": "execute_result"
    }
   ],
   "source": [
    "arr_2d[1,1] = 55\n",
    "\n",
    "arr_2d"
   ]
  },
  {
   "cell_type": "code",
   "execution_count": null,
   "metadata": {
    "colab": {
     "base_uri": "https://localhost:8080/"
    },
    "collapsed": true,
    "executionInfo": {
     "elapsed": 843,
     "status": "ok",
     "timestamp": 1614972599420,
     "user": {
      "displayName": "Orion Cloud",
      "photoUrl": "",
      "userId": "13399699001942214669"
     },
     "user_tz": -180
    },
    "id": "MKf7I7Cama2N",
    "jupyter": {
     "outputs_hidden": true
    },
    "outputId": "1ba66584-cbc5-47b8-a389-bc09f9a80bf6",
    "scrolled": true
   },
   "outputs": [
    {
     "data": {
      "text/plain": [
       "array([[ 1, 10, 15],\n",
       "       [20, 55, 30],\n",
       "       [35, 40, 45]])"
      ]
     },
     "execution_count": 29,
     "metadata": {
      "tags": []
     },
     "output_type": "execute_result"
    }
   ],
   "source": [
    "arr_2d[0,0] = True  # What is the output?\n",
    "arr_2d"
   ]
  },
  {
   "cell_type": "markdown",
   "metadata": {
    "id": "MKFFhkBAma2O"
   },
   "source": [
    "### Fancy Indexing\n",
    "\n",
    "Fancy indexing allows you to select entire rows or columns out of order,to show this, let's quickly build out a numpy array:"
   ]
  },
  {
   "cell_type": "code",
   "execution_count": null,
   "metadata": {
    "colab": {
     "base_uri": "https://localhost:8080/"
    },
    "collapsed": true,
    "executionInfo": {
     "elapsed": 788,
     "status": "ok",
     "timestamp": 1614972653569,
     "user": {
      "displayName": "Orion Cloud",
      "photoUrl": "",
      "userId": "13399699001942214669"
     },
     "user_tz": -180
    },
    "id": "1JowDxROma2P",
    "jupyter": {
     "outputs_hidden": true
    },
    "outputId": "462f1edb-c69e-4ec6-c866-c45d2972e89e",
    "scrolled": true
   },
   "outputs": [
    {
     "data": {
      "text/plain": [
       "array([ 0,  3,  6,  9, 12, 15, 18, 21, 24, 27])"
      ]
     },
     "execution_count": 30,
     "metadata": {
      "tags": []
     },
     "output_type": "execute_result"
    }
   ],
   "source": [
    "v = np.arange(0,30,3)\n",
    "v"
   ]
  },
  {
   "cell_type": "code",
   "execution_count": null,
   "metadata": {
    "colab": {
     "base_uri": "https://localhost:8080/"
    },
    "collapsed": true,
    "executionInfo": {
     "elapsed": 749,
     "status": "ok",
     "timestamp": 1614972664378,
     "user": {
      "displayName": "Orion Cloud",
      "photoUrl": "",
      "userId": "13399699001942214669"
     },
     "user_tz": -180
    },
    "id": "ZOU-KOr9ma2R",
    "jupyter": {
     "outputs_hidden": true
    },
    "outputId": "99985340-1abe-491a-d4d5-68717b3c997e",
    "scrolled": true
   },
   "outputs": [
    {
     "data": {
      "text/plain": [
       "3"
      ]
     },
     "execution_count": 31,
     "metadata": {
      "tags": []
     },
     "output_type": "execute_result"
    }
   ],
   "source": [
    "v[1]"
   ]
  },
  {
   "cell_type": "code",
   "execution_count": null,
   "metadata": {
    "colab": {
     "base_uri": "https://localhost:8080/"
    },
    "collapsed": true,
    "executionInfo": {
     "elapsed": 860,
     "status": "ok",
     "timestamp": 1614972667150,
     "user": {
      "displayName": "Orion Cloud",
      "photoUrl": "",
      "userId": "13399699001942214669"
     },
     "user_tz": -180
    },
    "id": "Q_9KKsu9ma2S",
    "jupyter": {
     "outputs_hidden": true
    },
    "outputId": "7ab5f33a-e0a8-46dc-97ab-f3ff6b7bf141",
    "scrolled": true
   },
   "outputs": [
    {
     "data": {
      "text/plain": [
       "9"
      ]
     },
     "execution_count": 32,
     "metadata": {
      "tags": []
     },
     "output_type": "execute_result"
    }
   ],
   "source": [
    "v[3]"
   ]
  },
  {
   "cell_type": "code",
   "execution_count": null,
   "metadata": {
    "colab": {
     "base_uri": "https://localhost:8080/"
    },
    "collapsed": true,
    "executionInfo": {
     "elapsed": 795,
     "status": "ok",
     "timestamp": 1614972685742,
     "user": {
      "displayName": "Orion Cloud",
      "photoUrl": "",
      "userId": "13399699001942214669"
     },
     "user_tz": -180
    },
    "id": "a1a0QfPZma2T",
    "jupyter": {
     "outputs_hidden": true
    },
    "outputId": "4615c406-ec71-4fdd-8f0b-6c6a475fc94f",
    "scrolled": true
   },
   "outputs": [
    {
     "data": {
      "text/plain": [
       "array([ 3,  9, 15])"
      ]
     },
     "execution_count": 33,
     "metadata": {
      "tags": []
     },
     "output_type": "execute_result"
    }
   ],
   "source": [
    "id_list = [1,3,5]\n",
    "v[id_list]"
   ]
  },
  {
   "cell_type": "code",
   "execution_count": null,
   "metadata": {
    "colab": {
     "base_uri": "https://localhost:8080/"
    },
    "collapsed": true,
    "executionInfo": {
     "elapsed": 829,
     "status": "ok",
     "timestamp": 1614972698605,
     "user": {
      "displayName": "Orion Cloud",
      "photoUrl": "",
      "userId": "13399699001942214669"
     },
     "user_tz": -180
    },
    "id": "X_UVNDRYma2U",
    "jupyter": {
     "outputs_hidden": true
    },
    "outputId": "c271cc33-d343-4513-9277-dc4d6da46e07",
    "scrolled": true
   },
   "outputs": [
    {
     "data": {
      "text/plain": [
       "array([[0, 0, 0, 0, 0, 0, 0, 0, 0, 0],\n",
       "       [0, 0, 0, 0, 0, 0, 0, 0, 0, 0],\n",
       "       [0, 0, 0, 0, 0, 0, 0, 0, 0, 0],\n",
       "       [0, 0, 0, 0, 0, 0, 0, 0, 0, 0],\n",
       "       [0, 0, 0, 0, 0, 0, 0, 0, 0, 0],\n",
       "       [0, 0, 0, 0, 0, 0, 0, 0, 0, 0],\n",
       "       [0, 0, 0, 0, 0, 0, 0, 0, 0, 0],\n",
       "       [0, 0, 0, 0, 0, 0, 0, 0, 0, 0],\n",
       "       [0, 0, 0, 0, 0, 0, 0, 0, 0, 0],\n",
       "       [0, 0, 0, 0, 0, 0, 0, 0, 0, 0]])"
      ]
     },
     "execution_count": 34,
     "metadata": {
      "tags": []
     },
     "output_type": "execute_result"
    }
   ],
   "source": [
    "# Set up matrix\n",
    "arr2d = np.zeros((10, 10), dtype=int)\n",
    "\n",
    "arr2d"
   ]
  },
  {
   "cell_type": "code",
   "execution_count": null,
   "metadata": {
    "colab": {
     "base_uri": "https://localhost:8080/"
    },
    "collapsed": true,
    "executionInfo": {
     "elapsed": 831,
     "status": "ok",
     "timestamp": 1614972711719,
     "user": {
      "displayName": "Orion Cloud",
      "photoUrl": "",
      "userId": "13399699001942214669"
     },
     "user_tz": -180
    },
    "id": "iEy9jH19ma2V",
    "jupyter": {
     "outputs_hidden": true
    },
    "outputId": "e73958e8-0344-4786-d861-88a9b0cde70e",
    "scrolled": true
   },
   "outputs": [
    {
     "data": {
      "text/plain": [
       "array([[0, 0, 0, 0, 0, 0, 0, 0, 0, 0],\n",
       "       [1, 1, 1, 1, 1, 1, 1, 1, 1, 1],\n",
       "       [2, 2, 2, 2, 2, 2, 2, 2, 2, 2],\n",
       "       [3, 3, 3, 3, 3, 3, 3, 3, 3, 3],\n",
       "       [4, 4, 4, 4, 4, 4, 4, 4, 4, 4],\n",
       "       [5, 5, 5, 5, 5, 5, 5, 5, 5, 5],\n",
       "       [6, 6, 6, 6, 6, 6, 6, 6, 6, 6],\n",
       "       [7, 7, 7, 7, 7, 7, 7, 7, 7, 7],\n",
       "       [8, 8, 8, 8, 8, 8, 8, 8, 8, 8],\n",
       "       [9, 9, 9, 9, 9, 9, 9, 9, 9, 9]])"
      ]
     },
     "execution_count": 35,
     "metadata": {
      "tags": []
     },
     "output_type": "execute_result"
    }
   ],
   "source": [
    "\n",
    "for i  in range(10):\n",
    "    arr2d[i] = i\n",
    "    \n",
    "arr2d"
   ]
  },
  {
   "cell_type": "code",
   "execution_count": null,
   "metadata": {
    "colab": {
     "base_uri": "https://localhost:8080/"
    },
    "collapsed": true,
    "executionInfo": {
     "elapsed": 829,
     "status": "ok",
     "timestamp": 1614972728718,
     "user": {
      "displayName": "Orion Cloud",
      "photoUrl": "",
      "userId": "13399699001942214669"
     },
     "user_tz": -180
    },
    "id": "mStgYgqxma2X",
    "jupyter": {
     "outputs_hidden": true
    },
    "outputId": "55dc85c0-861e-42ef-b6a9-b8ba13cd8778",
    "scrolled": true
   },
   "outputs": [
    {
     "data": {
      "text/plain": [
       "array([[2, 2, 2, 2, 2, 2, 2, 2, 2, 2],\n",
       "       [4, 4, 4, 4, 4, 4, 4, 4, 4, 4],\n",
       "       [6, 6, 6, 6, 6, 6, 6, 6, 6, 6],\n",
       "       [8, 8, 8, 8, 8, 8, 8, 8, 8, 8]])"
      ]
     },
     "execution_count": 36,
     "metadata": {
      "tags": []
     },
     "output_type": "execute_result"
    }
   ],
   "source": [
    "arr2d[[2,4,6,8]]"
   ]
  },
  {
   "cell_type": "markdown",
   "metadata": {
    "id": "mDI1X9gTma2Z"
   },
   "source": [
    "<h3>any_array[[row indices], [column indices]]</h3>"
   ]
  },
  {
   "cell_type": "code",
   "execution_count": null,
   "metadata": {
    "colab": {
     "base_uri": "https://localhost:8080/"
    },
    "collapsed": true,
    "executionInfo": {
     "elapsed": 759,
     "status": "ok",
     "timestamp": 1614972746113,
     "user": {
      "displayName": "Orion Cloud",
      "photoUrl": "",
      "userId": "13399699001942214669"
     },
     "user_tz": -180
    },
    "id": "eJ9HbNgyma2a",
    "jupyter": {
     "outputs_hidden": true
    },
    "outputId": "436d6975-7dcd-4522-a587-c0b9002f9a14",
    "scrolled": true
   },
   "outputs": [
    {
     "data": {
      "text/plain": [
       "array([[ 1,  2,  3,  4],\n",
       "       [ 5,  6,  7,  8],\n",
       "       [ 9, 10, 11, 12],\n",
       "       [13, 14, 15, 16]])"
      ]
     },
     "execution_count": 37,
     "metadata": {
      "tags": []
     },
     "output_type": "execute_result"
    }
   ],
   "source": [
    "jj = np.arange(1,17).reshape((4,4))\n",
    "jj"
   ]
  },
  {
   "cell_type": "code",
   "execution_count": null,
   "metadata": {
    "colab": {
     "base_uri": "https://localhost:8080/"
    },
    "collapsed": true,
    "executionInfo": {
     "elapsed": 802,
     "status": "ok",
     "timestamp": 1614972760538,
     "user": {
      "displayName": "Orion Cloud",
      "photoUrl": "",
      "userId": "13399699001942214669"
     },
     "user_tz": -180
    },
    "id": "ji0JGedkma2b",
    "jupyter": {
     "outputs_hidden": true
    },
    "outputId": "45cbf958-25f8-4d8a-9982-29e51fffb7d1",
    "scrolled": true
   },
   "outputs": [
    {
     "data": {
      "text/plain": [
       "array([ 5, 12])"
      ]
     },
     "execution_count": 38,
     "metadata": {
      "tags": []
     },
     "output_type": "execute_result"
    }
   ],
   "source": [
    "jj[[1,2],[0,3]]"
   ]
  },
  {
   "cell_type": "code",
   "execution_count": null,
   "metadata": {
    "collapsed": true,
    "id": "wf514F4Lma2c",
    "jupyter": {
     "outputs_hidden": true
    },
    "outputId": "ebc79ee5-87e8-48e3-8fd4-9c3094d89ad9",
    "scrolled": true
   },
   "outputs": [
    {
     "data": {
      "text/plain": [
       "array([ 1, 10, 16])"
      ]
     },
     "execution_count": 55,
     "metadata": {
      "tags": []
     },
     "output_type": "execute_result"
    }
   ],
   "source": [
    "jj[[0,2,3],[0,1,3]]"
   ]
  },
  {
   "cell_type": "code",
   "execution_count": null,
   "metadata": {
    "colab": {
     "base_uri": "https://localhost:8080/"
    },
    "collapsed": true,
    "executionInfo": {
     "elapsed": 825,
     "status": "ok",
     "timestamp": 1614972842518,
     "user": {
      "displayName": "Orion Cloud",
      "photoUrl": "",
      "userId": "13399699001942214669"
     },
     "user_tz": -180
    },
    "id": "yx5zCfl1tQYO",
    "jupyter": {
     "outputs_hidden": true
    },
    "outputId": "9b949c64-845c-4d82-812d-18bcbc9c4829",
    "scrolled": true
   },
   "outputs": [
    {
     "data": {
      "text/plain": [
       "array([ 1,  6, 11, 16])"
      ]
     },
     "execution_count": 39,
     "metadata": {
      "tags": []
     },
     "output_type": "execute_result"
    }
   ],
   "source": [
    "#@title Question :How do I get diagonal number of this matricies?\n",
    "jj[[0,1,2,3],[0,1,2,3]] "
   ]
  },
  {
   "cell_type": "markdown",
   "metadata": {
    "id": "33OiARivma2d"
   },
   "source": [
    "### Using ***basic index*** and ***fancy index*** together"
   ]
  },
  {
   "cell_type": "code",
   "execution_count": null,
   "metadata": {
    "colab": {
     "base_uri": "https://localhost:8080/"
    },
    "collapsed": true,
    "executionInfo": {
     "elapsed": 799,
     "status": "ok",
     "timestamp": 1614972864826,
     "user": {
      "displayName": "Orion Cloud",
      "photoUrl": "",
      "userId": "13399699001942214669"
     },
     "user_tz": -180
    },
    "id": "5bEk7BBcma2e",
    "jupyter": {
     "outputs_hidden": true
    },
    "outputId": "000e6c07-dcea-47cd-8d6d-390a9a07fabc",
    "scrolled": true
   },
   "outputs": [
    {
     "data": {
      "text/plain": [
       "array([[ 2,  3],\n",
       "       [ 6,  7],\n",
       "       [10, 11],\n",
       "       [14, 15]])"
      ]
     },
     "execution_count": 40,
     "metadata": {
      "tags": []
     },
     "output_type": "execute_result"
    }
   ],
   "source": [
    "jj[0:,[1,2]]"
   ]
  },
  {
   "cell_type": "code",
   "execution_count": null,
   "metadata": {
    "colab": {
     "base_uri": "https://localhost:8080/"
    },
    "collapsed": true,
    "executionInfo": {
     "elapsed": 863,
     "status": "ok",
     "timestamp": 1614972915520,
     "user": {
      "displayName": "Orion Cloud",
      "photoUrl": "",
      "userId": "13399699001942214669"
     },
     "user_tz": -180
    },
    "id": "fwmxqLPR4v5G",
    "jupyter": {
     "outputs_hidden": true
    },
    "outputId": "f4e57cc2-ed4b-410f-8a1e-0bb4ec5bac8d",
    "scrolled": true
   },
   "outputs": [
    {
     "data": {
      "text/plain": [
       "array([[ 1,  2,  3,  4],\n",
       "       [ 5,  6,  7,  8],\n",
       "       [ 9, 10, 11, 12],\n",
       "       [13, 14, 15, 16]])"
      ]
     },
     "execution_count": 41,
     "metadata": {
      "tags": []
     },
     "output_type": "execute_result"
    }
   ],
   "source": [
    "jj"
   ]
  },
  {
   "cell_type": "code",
   "execution_count": null,
   "metadata": {
    "colab": {
     "base_uri": "https://localhost:8080/"
    },
    "collapsed": true,
    "executionInfo": {
     "elapsed": 862,
     "status": "ok",
     "timestamp": 1614972963314,
     "user": {
      "displayName": "Orion Cloud",
      "photoUrl": "",
      "userId": "13399699001942214669"
     },
     "user_tz": -180
    },
    "id": "t-3Zq8d7ma2f",
    "jupyter": {
     "outputs_hidden": true
    },
    "outputId": "91946c9c-0ee9-44d8-d2e3-b090bd299828",
    "scrolled": true
   },
   "outputs": [
    {
     "data": {
      "text/plain": [
       "array([[ 7,  8],\n",
       "       [15, 16]])"
      ]
     },
     "execution_count": 42,
     "metadata": {
      "tags": []
     },
     "output_type": "execute_result"
    }
   ],
   "source": [
    "#@title Question\n",
    "jj[[1,3],2:]"
   ]
  },
  {
   "cell_type": "markdown",
   "metadata": {
    "id": "FXDzNaUvvf_P"
   },
   "source": [
    "# End of the DAwP LAB-1"
   ]
  },
  {
   "cell_type": "markdown",
   "metadata": {
    "id": "CFTOmbl0v9o6"
   },
   "source": [
    "___\n",
    "\n",
    "\n",
    "<p style=\"text-align: center;\"><img src=\"https://docs.google.com/uc?id=1lY0Uj5R04yMY3-ZppPWxqCr5pvBLYPnV\" class=\"img-fluid\" alt=\"Rossum\"></p>\n",
    "\n",
    "___"
   ]
  },
  {
   "cell_type": "markdown",
   "metadata": {
    "id": "hB9oa7lRlz_3"
   },
   "source": [
    "#DAwP LAB-2"
   ]
  },
  {
   "cell_type": "markdown",
   "metadata": {
    "id": "rxs61SmMma2m"
   },
   "source": [
    "## More Indexing Help\n",
    "Indexing a 2d matrix can be a bit confusing at first, especially when you start to add in step size. Try google image searching NumPy indexing to find useful images."
   ]
  },
  {
   "cell_type": "markdown",
   "metadata": {
    "id": "TcJzYPquma2n"
   },
   "source": [
    "## Selection\n",
    "\n",
    "Let's briefly go over how to use brackets for selection based off of comparison operators."
   ]
  },
  {
   "cell_type": "code",
   "execution_count": 1,
   "metadata": {
    "executionInfo": {
     "elapsed": 680,
     "status": "ok",
     "timestamp": 1615192936678,
     "user": {
      "displayName": "Orion Cloud",
      "photoUrl": "",
      "userId": "13399699001942214669"
     },
     "user_tz": -180
    },
    "id": "YFvIJRDQABC7",
    "scrolled": true
   },
   "outputs": [],
   "source": [
    "import numpy as np"
   ]
  },
  {
   "cell_type": "code",
   "execution_count": 2,
   "metadata": {
    "executionInfo": {
     "elapsed": 499,
     "status": "ok",
     "timestamp": 1615193000657,
     "user": {
      "displayName": "Orion Cloud",
      "photoUrl": "",
      "userId": "13399699001942214669"
     },
     "user_tz": -180
    },
    "id": "VtbCdXTTma2n",
    "scrolled": true
   },
   "outputs": [],
   "source": [
    "arr = np.arange(1,31,3)"
   ]
  },
  {
   "cell_type": "code",
   "execution_count": 3,
   "metadata": {
    "colab": {
     "base_uri": "https://localhost:8080/"
    },
    "executionInfo": {
     "elapsed": 522,
     "status": "ok",
     "timestamp": 1615193002945,
     "user": {
      "displayName": "Orion Cloud",
      "photoUrl": "",
      "userId": "13399699001942214669"
     },
     "user_tz": -180
    },
    "id": "tEWIXktama2o",
    "outputId": "8e9e95ac-8ee6-488e-a25f-e69286fe13da",
    "scrolled": true
   },
   "outputs": [
    {
     "data": {
      "text/plain": [
       "array([ 1,  4,  7, 10, 13, 16, 19, 22, 25, 28])"
      ]
     },
     "execution_count": 3,
     "metadata": {},
     "output_type": "execute_result"
    }
   ],
   "source": [
    "arr"
   ]
  },
  {
   "cell_type": "code",
   "execution_count": 4,
   "metadata": {
    "colab": {
     "base_uri": "https://localhost:8080/"
    },
    "executionInfo": {
     "elapsed": 1716,
     "status": "ok",
     "timestamp": 1615193022800,
     "user": {
      "displayName": "Orion Cloud",
      "photoUrl": "",
      "userId": "13399699001942214669"
     },
     "user_tz": -180
    },
    "id": "VBE67xBTma2p",
    "outputId": "6a62638c-4ec2-4d69-e2cb-31bb9c6d9c63",
    "scrolled": true
   },
   "outputs": [
    {
     "data": {
      "text/plain": [
       "array([ True,  True,  True,  True,  True,  True, False, False, False,\n",
       "       False])"
      ]
     },
     "execution_count": 4,
     "metadata": {},
     "output_type": "execute_result"
    }
   ],
   "source": [
    "arr < 19"
   ]
  },
  {
   "cell_type": "code",
   "execution_count": 5,
   "metadata": {
    "executionInfo": {
     "elapsed": 518,
     "status": "ok",
     "timestamp": 1615193141246,
     "user": {
      "displayName": "Orion Cloud",
      "photoUrl": "",
      "userId": "13399699001942214669"
     },
     "user_tz": -180
    },
    "id": "h9d2yeFqma2p",
    "scrolled": true
   },
   "outputs": [],
   "source": [
    "mask = arr < 20 # is there any difference between arr < 20 and arr < 19 ?"
   ]
  },
  {
   "cell_type": "code",
   "execution_count": 6,
   "metadata": {
    "id": "0hYpuC9lma2q"
   },
   "outputs": [
    {
     "data": {
      "text/plain": [
       "array([ True,  True,  True,  True,  True,  True,  True, False, False,\n",
       "       False])"
      ]
     },
     "execution_count": 6,
     "metadata": {},
     "output_type": "execute_result"
    }
   ],
   "source": [
    "mask"
   ]
  },
  {
   "cell_type": "code",
   "execution_count": 7,
   "metadata": {
    "colab": {
     "base_uri": "https://localhost:8080/"
    },
    "executionInfo": {
     "elapsed": 1158,
     "status": "ok",
     "timestamp": 1615193170438,
     "user": {
      "displayName": "Orion Cloud",
      "photoUrl": "",
      "userId": "13399699001942214669"
     },
     "user_tz": -180
    },
    "id": "3oWvgOv9ma2r",
    "outputId": "052ca6a3-3483-42dc-d71d-bd44e51df35b",
    "scrolled": true
   },
   "outputs": [
    {
     "data": {
      "text/plain": [
       "array([ 1,  4,  7, 10, 13, 16, 19])"
      ]
     },
     "execution_count": 7,
     "metadata": {},
     "output_type": "execute_result"
    }
   ],
   "source": [
    "arr[mask]"
   ]
  },
  {
   "cell_type": "markdown",
   "metadata": {
    "id": "XAKlT5KEma2s"
   },
   "source": [
    "-``& ==> and``\n",
    "\n",
    "-``| ==> or``"
   ]
  },
  {
   "cell_type": "code",
   "execution_count": 8,
   "metadata": {
    "id": "leJLBPqhma2r",
    "scrolled": true
   },
   "outputs": [
    {
     "ename": "ValueError",
     "evalue": "The truth value of an array with more than one element is ambiguous. Use a.any() or a.all()",
     "output_type": "error",
     "traceback": [
      "\u001b[1;31m---------------------------------------------------------------------------\u001b[0m",
      "\u001b[1;31mValueError\u001b[0m                                Traceback (most recent call last)",
      "\u001b[1;32m<ipython-input-8-95858bd04b76>\u001b[0m in \u001b[0;36m<module>\u001b[1;34m\u001b[0m\n\u001b[1;32m----> 1\u001b[1;33m \u001b[0marr\u001b[0m\u001b[1;33m[\u001b[0m\u001b[1;33m(\u001b[0m\u001b[0marr\u001b[0m \u001b[1;33m>\u001b[0m \u001b[1;36m5\u001b[0m\u001b[1;33m)\u001b[0m \u001b[1;32mand\u001b[0m \u001b[1;33m(\u001b[0m\u001b[0marr\u001b[0m \u001b[1;33m<\u001b[0m \u001b[1;36m25\u001b[0m\u001b[1;33m)\u001b[0m\u001b[1;33m]\u001b[0m \u001b[1;31m# what is the output?\u001b[0m\u001b[1;33m\u001b[0m\u001b[1;33m\u001b[0m\u001b[0m\n\u001b[0m",
      "\u001b[1;31mValueError\u001b[0m: The truth value of an array with more than one element is ambiguous. Use a.any() or a.all()"
     ]
    }
   ],
   "source": [
    "arr[(arr > 5) and (arr < 25)] # what is the output?"
   ]
  },
  {
   "cell_type": "code",
   "execution_count": 9,
   "metadata": {
    "colab": {
     "base_uri": "https://localhost:8080/"
    },
    "executionInfo": {
     "elapsed": 603,
     "status": "ok",
     "timestamp": 1615193343908,
     "user": {
      "displayName": "Orion Cloud",
      "photoUrl": "",
      "userId": "13399699001942214669"
     },
     "user_tz": -180
    },
    "id": "VFUB8ArdBfqF",
    "outputId": "0682ca4b-a43b-4571-d0cc-a72b7bb32a4d",
    "scrolled": true
   },
   "outputs": [
    {
     "data": {
      "text/plain": [
       "array([ 7, 10, 13, 16, 19, 22])"
      ]
     },
     "execution_count": 9,
     "metadata": {},
     "output_type": "execute_result"
    }
   ],
   "source": [
    "arr[(arr > 5) & (arr < 25)]"
   ]
  },
  {
   "cell_type": "code",
   "execution_count": 10,
   "metadata": {
    "executionInfo": {
     "elapsed": 550,
     "status": "ok",
     "timestamp": 1615193784262,
     "user": {
      "displayName": "Orion Cloud",
      "photoUrl": "",
      "userId": "13399699001942214669"
     },
     "user_tz": -180
    },
    "id": "rH6y7UgxBoRV",
    "scrolled": true
   },
   "outputs": [],
   "source": [
    "omatrix = np.arange(15).reshape(-1,3)"
   ]
  },
  {
   "cell_type": "code",
   "execution_count": 11,
   "metadata": {
    "colab": {
     "base_uri": "https://localhost:8080/"
    },
    "executionInfo": {
     "elapsed": 533,
     "status": "ok",
     "timestamp": 1615193801650,
     "user": {
      "displayName": "Orion Cloud",
      "photoUrl": "",
      "userId": "13399699001942214669"
     },
     "user_tz": -180
    },
    "id": "r0j3VpbIDV0R",
    "outputId": "cfcb4987-07f8-43a8-d62d-8db15c468af0",
    "scrolled": true
   },
   "outputs": [
    {
     "data": {
      "text/plain": [
       "array([[ 0,  1,  2],\n",
       "       [ 3,  4,  5],\n",
       "       [ 6,  7,  8],\n",
       "       [ 9, 10, 11],\n",
       "       [12, 13, 14]])"
      ]
     },
     "execution_count": 11,
     "metadata": {},
     "output_type": "execute_result"
    }
   ],
   "source": [
    "omatrix"
   ]
  },
  {
   "cell_type": "code",
   "execution_count": 30,
   "metadata": {
    "colab": {
     "base_uri": "https://localhost:8080/"
    },
    "executionInfo": {
     "elapsed": 875,
     "status": "ok",
     "timestamp": 1615194172792,
     "user": {
      "displayName": "Orion Cloud",
      "photoUrl": "",
      "userId": "13399699001942214669"
     },
     "user_tz": -180
    },
    "id": "Vib2kwGDDY3x",
    "outputId": "ccdc6429-dc8b-4043-f3a5-56f9c6429b9e",
    "scrolled": true
   },
   "outputs": [
    {
     "data": {
      "text/plain": [
       "array([[ True,  True,  True],\n",
       "       [ True,  True,  True],\n",
       "       [ True,  True,  True],\n",
       "       [ True,  True,  True],\n",
       "       [ True,  True,  True]])"
      ]
     },
     "execution_count": 30,
     "metadata": {
      "tags": []
     },
     "output_type": "execute_result"
    }
   ],
   "source": [
    "(omatrix > 5) | (omatrix < 13)"
   ]
  },
  {
   "cell_type": "code",
   "execution_count": 12,
   "metadata": {
    "colab": {
     "base_uri": "https://localhost:8080/"
    },
    "executionInfo": {
     "elapsed": 541,
     "status": "ok",
     "timestamp": 1615194124154,
     "user": {
      "displayName": "Orion Cloud",
      "photoUrl": "",
      "userId": "13399699001942214669"
     },
     "user_tz": -180
    },
    "id": "iLqii-vZDZPv",
    "outputId": "526215dc-84b4-44f2-cb23-49751a8a4425",
    "scrolled": true
   },
   "outputs": [
    {
     "data": {
      "text/plain": [
       "array([ 0,  1,  2,  3,  4,  5,  6,  7,  8,  9, 10, 11, 12, 13, 14])"
      ]
     },
     "execution_count": 12,
     "metadata": {},
     "output_type": "execute_result"
    }
   ],
   "source": [
    "omatrix[(omatrix > 5) | (omatrix < 13)]"
   ]
  },
  {
   "cell_type": "code",
   "execution_count": 13,
   "metadata": {
    "colab": {
     "base_uri": "https://localhost:8080/"
    },
    "executionInfo": {
     "elapsed": 560,
     "status": "ok",
     "timestamp": 1615194477767,
     "user": {
      "displayName": "Orion Cloud",
      "photoUrl": "",
      "userId": "13399699001942214669"
     },
     "user_tz": -180
    },
    "id": "YjzSL7u3FFeY",
    "outputId": "a2bf001a-0916-4106-df6e-6c26f63c2885",
    "scrolled": true
   },
   "outputs": [
    {
     "data": {
      "text/plain": [
       "array([[3, 4, 5],\n",
       "       [6, 7, 8]])"
      ]
     },
     "execution_count": 13,
     "metadata": {},
     "output_type": "execute_result"
    }
   ],
   "source": [
    "mask = ((1 <= omatrix[:,0]) & (omatrix[:,0] <= 6)\n",
    "      & (2 <= omatrix[:,1]) & (omatrix[:,1] <= 7))\n",
    "\n",
    "omatrix[mask,:]"
   ]
  },
  {
   "cell_type": "markdown",
   "metadata": {
    "id": "SY5DsG6yOQfd"
   },
   "source": [
    "## np.choose"
   ]
  },
  {
   "cell_type": "code",
   "execution_count": 14,
   "metadata": {
    "executionInfo": {
     "elapsed": 1140,
     "status": "ok",
     "timestamp": 1615196639183,
     "user": {
      "displayName": "Orion Cloud",
      "photoUrl": "",
      "userId": "13399699001942214669"
     },
     "user_tz": -180
    },
    "id": "2UUWJCOmOEuL",
    "scrolled": true
   },
   "outputs": [],
   "source": [
    "which = [1, 0, 1, 2]\n",
    "choices = [[-2, -3, -4, -5], [6, 7, 8, 9], [1,2,3,4]]"
   ]
  },
  {
   "cell_type": "code",
   "execution_count": 87,
   "metadata": {
    "colab": {
     "base_uri": "https://localhost:8080/"
    },
    "executionInfo": {
     "elapsed": 1179,
     "status": "ok",
     "timestamp": 1615196642871,
     "user": {
      "displayName": "Orion Cloud",
      "photoUrl": "",
      "userId": "13399699001942214669"
     },
     "user_tz": -180
    },
    "id": "cuEhssM6OG_S",
    "outputId": "cf6ce482-0b4d-4af1-d4e4-208988bae235",
    "scrolled": true
   },
   "outputs": [
    {
     "data": {
      "text/plain": [
       "array([ 6, -3,  8,  4])"
      ]
     },
     "execution_count": 87,
     "metadata": {
      "tags": []
     },
     "output_type": "execute_result"
    }
   ],
   "source": [
    "np.choose(which, choices)"
   ]
  },
  {
   "cell_type": "markdown",
   "metadata": {
    "id": "jXVUw35uma2t"
   },
   "source": [
    "## NumPy Operations"
   ]
  },
  {
   "cell_type": "markdown",
   "metadata": {
    "id": "P4yvSG3sma2u"
   },
   "source": [
    "## Arithmetic Operations\n",
    "\n",
    "#### You can easily perform array with array arithmetic, or scalar with array arithmetic."
   ]
  },
  {
   "cell_type": "code",
   "execution_count": 15,
   "metadata": {
    "colab": {
     "base_uri": "https://localhost:8080/"
    },
    "executionInfo": {
     "elapsed": 585,
     "status": "ok",
     "timestamp": 1615194818414,
     "user": {
      "displayName": "Orion Cloud",
      "photoUrl": "",
      "userId": "13399699001942214669"
     },
     "user_tz": -180
    },
    "id": "Fm1fUuUnma2u",
    "outputId": "9631afdf-e7a3-4214-8943-fd26ce17c3eb",
    "scrolled": true
   },
   "outputs": [
    {
     "data": {
      "text/plain": [
       "array([ 0, 10, 20, 30, 40, 50, 60, 70, 80, 90])"
      ]
     },
     "execution_count": 15,
     "metadata": {},
     "output_type": "execute_result"
    }
   ],
   "source": [
    "arr = np.arange(0,100,10)\n",
    "arr"
   ]
  },
  {
   "cell_type": "code",
   "execution_count": 16,
   "metadata": {
    "colab": {
     "base_uri": "https://localhost:8080/"
    },
    "executionInfo": {
     "elapsed": 517,
     "status": "ok",
     "timestamp": 1615194820992,
     "user": {
      "displayName": "Orion Cloud",
      "photoUrl": "",
      "userId": "13399699001942214669"
     },
     "user_tz": -180
    },
    "id": "fLaU08OVma2v",
    "outputId": "b5183e48-6247-468b-c4dc-e042b021fb60",
    "scrolled": true
   },
   "outputs": [
    {
     "data": {
      "text/plain": [
       "array([  0,  20,  40,  60,  80, 100, 120, 140, 160, 180])"
      ]
     },
     "execution_count": 16,
     "metadata": {},
     "output_type": "execute_result"
    }
   ],
   "source": [
    "arr + arr"
   ]
  },
  {
   "cell_type": "code",
   "execution_count": 17,
   "metadata": {
    "colab": {
     "base_uri": "https://localhost:8080/"
    },
    "executionInfo": {
     "elapsed": 396,
     "status": "ok",
     "timestamp": 1615194822053,
     "user": {
      "displayName": "Orion Cloud",
      "photoUrl": "",
      "userId": "13399699001942214669"
     },
     "user_tz": -180
    },
    "id": "fJYD5Mjlma2w",
    "outputId": "d411c547-5949-46e5-ab85-b6bcef3cc554",
    "scrolled": true
   },
   "outputs": [
    {
     "data": {
      "text/plain": [
       "array([0, 0, 0, 0, 0, 0, 0, 0, 0, 0])"
      ]
     },
     "execution_count": 17,
     "metadata": {},
     "output_type": "execute_result"
    }
   ],
   "source": [
    "arr - arr "
   ]
  },
  {
   "cell_type": "code",
   "execution_count": 18,
   "metadata": {
    "colab": {
     "base_uri": "https://localhost:8080/"
    },
    "executionInfo": {
     "elapsed": 541,
     "status": "ok",
     "timestamp": 1615194823297,
     "user": {
      "displayName": "Orion Cloud",
      "photoUrl": "",
      "userId": "13399699001942214669"
     },
     "user_tz": -180
    },
    "id": "Yijk1TXZma2x",
    "outputId": "020d9f66-03f3-4c96-aeae-138a1e5533bb",
    "scrolled": true
   },
   "outputs": [
    {
     "data": {
      "text/plain": [
       "array([   0,  100,  400,  900, 1600, 2500, 3600, 4900, 6400, 8100])"
      ]
     },
     "execution_count": 18,
     "metadata": {},
     "output_type": "execute_result"
    }
   ],
   "source": [
    "arr * arr"
   ]
  },
  {
   "cell_type": "code",
   "execution_count": 19,
   "metadata": {
    "colab": {
     "base_uri": "https://localhost:8080/"
    },
    "executionInfo": {
     "elapsed": 578,
     "status": "ok",
     "timestamp": 1615194825649,
     "user": {
      "displayName": "Orion Cloud",
      "photoUrl": "",
      "userId": "13399699001942214669"
     },
     "user_tz": -180
    },
    "id": "ymCycY1LG4cy",
    "outputId": "cafb9fd0-41db-4194-b61d-1702fffcd24d",
    "scrolled": true
   },
   "outputs": [
    {
     "name": "stderr",
     "output_type": "stream",
     "text": [
      "<ipython-input-19-7f952cd3e0ce>:1: RuntimeWarning: invalid value encountered in true_divide\n",
      "  arr / arr\n"
     ]
    },
    {
     "data": {
      "text/plain": [
       "array([nan,  1.,  1.,  1.,  1.,  1.,  1.,  1.,  1.,  1.])"
      ]
     },
     "execution_count": 19,
     "metadata": {},
     "output_type": "execute_result"
    }
   ],
   "source": [
    "arr / arr"
   ]
  },
  {
   "cell_type": "code",
   "execution_count": 20,
   "metadata": {
    "colab": {
     "base_uri": "https://localhost:8080/"
    },
    "executionInfo": {
     "elapsed": 705,
     "status": "ok",
     "timestamp": 1615194828483,
     "user": {
      "displayName": "Orion Cloud",
      "photoUrl": "",
      "userId": "13399699001942214669"
     },
     "user_tz": -180
    },
    "id": "DQpvwH8pG4Zx",
    "outputId": "5fc4a561-a77a-445f-ad36-eef1a7007d9a",
    "scrolled": true
   },
   "outputs": [
    {
     "name": "stderr",
     "output_type": "stream",
     "text": [
      "<ipython-input-20-e66ae8057bc3>:1: RuntimeWarning: divide by zero encountered in true_divide\n",
      "  1 / arr\n"
     ]
    },
    {
     "data": {
      "text/plain": [
       "array([       inf, 0.1       , 0.05      , 0.03333333, 0.025     ,\n",
       "       0.02      , 0.01666667, 0.01428571, 0.0125    , 0.01111111])"
      ]
     },
     "execution_count": 20,
     "metadata": {},
     "output_type": "execute_result"
    }
   ],
   "source": [
    "1 / arr"
   ]
  },
  {
   "cell_type": "code",
   "execution_count": 21,
   "metadata": {
    "colab": {
     "base_uri": "https://localhost:8080/"
    },
    "executionInfo": {
     "elapsed": 629,
     "status": "ok",
     "timestamp": 1615194869721,
     "user": {
      "displayName": "Orion Cloud",
      "photoUrl": "",
      "userId": "13399699001942214669"
     },
     "user_tz": -180
    },
    "id": "LzuP0Dy-G4V8",
    "outputId": "d6f199ad-2ec4-4cb0-8f83-3b992c5cc462",
    "scrolled": true
   },
   "outputs": [
    {
     "data": {
      "text/plain": [
       "array([   0,  100,  400,  900, 1600, 2500, 3600, 4900, 6400, 8100],\n",
       "      dtype=int32)"
      ]
     },
     "execution_count": 21,
     "metadata": {},
     "output_type": "execute_result"
    }
   ],
   "source": [
    "arr ** 2"
   ]
  },
  {
   "cell_type": "code",
   "execution_count": 22,
   "metadata": {
    "executionInfo": {
     "elapsed": 557,
     "status": "ok",
     "timestamp": 1615195014876,
     "user": {
      "displayName": "Orion Cloud",
      "photoUrl": "",
      "userId": "13399699001942214669"
     },
     "user_tz": -180
    },
    "id": "O6sroiNXG4Up",
    "scrolled": true
   },
   "outputs": [],
   "source": [
    "omatrix = np.arange(15).reshape(3,-1)"
   ]
  },
  {
   "cell_type": "code",
   "execution_count": 23,
   "metadata": {
    "colab": {
     "base_uri": "https://localhost:8080/"
    },
    "executionInfo": {
     "elapsed": 663,
     "status": "ok",
     "timestamp": 1615195019022,
     "user": {
      "displayName": "Orion Cloud",
      "photoUrl": "",
      "userId": "13399699001942214669"
     },
     "user_tz": -180
    },
    "id": "EkmpPhOqG4QN",
    "outputId": "61897063-dcaf-4743-857c-61a14e740592",
    "scrolled": true
   },
   "outputs": [
    {
     "data": {
      "text/plain": [
       "array([[ 0,  1,  2,  3,  4],\n",
       "       [ 5,  6,  7,  8,  9],\n",
       "       [10, 11, 12, 13, 14]])"
      ]
     },
     "execution_count": 23,
     "metadata": {},
     "output_type": "execute_result"
    }
   ],
   "source": [
    "omatrix"
   ]
  },
  {
   "cell_type": "code",
   "execution_count": 17,
   "metadata": {
    "colab": {
     "base_uri": "https://localhost:8080/"
    },
    "executionInfo": {
     "elapsed": 600,
     "status": "ok",
     "timestamp": 1615195041242,
     "user": {
      "displayName": "Orion Cloud",
      "photoUrl": "",
      "userId": "13399699001942214669"
     },
     "user_tz": -180
    },
    "id": "T92xrPnvICzm",
    "outputId": "2e44362b-ba91-4fbd-f473-e2b99c585f10",
    "scrolled": true
   },
   "outputs": [
    {
     "data": {
      "text/plain": [
       "array([[ 1,  2,  3,  4,  5],\n",
       "       [ 6,  7,  8,  9, 10],\n",
       "       [11, 12, 13, 14, 15]])"
      ]
     },
     "execution_count": 17,
     "metadata": {},
     "output_type": "execute_result"
    }
   ],
   "source": [
    "omatrix + 1 "
   ]
  },
  {
   "cell_type": "code",
   "execution_count": 18,
   "metadata": {
    "colab": {
     "base_uri": "https://localhost:8080/"
    },
    "executionInfo": {
     "elapsed": 560,
     "status": "ok",
     "timestamp": 1615195102400,
     "user": {
      "displayName": "Orion Cloud",
      "photoUrl": "",
      "userId": "13399699001942214669"
     },
     "user_tz": -180
    },
    "id": "Gk4wb8HaIKNb",
    "outputId": "cd20f300-85a2-42b0-a8c1-28b33f2de1bf",
    "scrolled": true
   },
   "outputs": [
    {
     "data": {
      "text/plain": [
       "array([[0. , 0.5, 1. , 1.5, 2. ],\n",
       "       [2.5, 3. , 3.5, 4. , 4.5],\n",
       "       [5. , 5.5, 6. , 6.5, 7. ]])"
      ]
     },
     "execution_count": 18,
     "metadata": {},
     "output_type": "execute_result"
    }
   ],
   "source": [
    "omatrix / 2"
   ]
  },
  {
   "cell_type": "code",
   "execution_count": 19,
   "metadata": {
    "colab": {
     "base_uri": "https://localhost:8080/"
    },
    "executionInfo": {
     "elapsed": 627,
     "status": "ok",
     "timestamp": 1615195128503,
     "user": {
      "displayName": "Orion Cloud",
      "photoUrl": "",
      "userId": "13399699001942214669"
     },
     "user_tz": -180
    },
    "id": "O1eMvVoqIY3q",
    "outputId": "d72d055c-b0bb-48a4-a98f-ea3b64a7fc72",
    "scrolled": true
   },
   "outputs": [
    {
     "name": "stderr",
     "output_type": "stream",
     "text": [
      "<ipython-input-19-8e37bb25a000>:1: RuntimeWarning: invalid value encountered in true_divide\n",
      "  omatrix/omatrix\n"
     ]
    },
    {
     "data": {
      "text/plain": [
       "array([[nan,  1.,  1.,  1.,  1.],\n",
       "       [ 1.,  1.,  1.,  1.,  1.],\n",
       "       [ 1.,  1.,  1.,  1.,  1.]])"
      ]
     },
     "execution_count": 19,
     "metadata": {},
     "output_type": "execute_result"
    }
   ],
   "source": [
    "omatrix/omatrix"
   ]
  },
  {
   "cell_type": "code",
   "execution_count": 24,
   "metadata": {},
   "outputs": [
    {
     "data": {
      "text/plain": [
       "array([[ 0,  1,  2,  3,  4],\n",
       "       [ 5,  6,  7,  8,  9],\n",
       "       [10, 11, 12, 13, 14]])"
      ]
     },
     "execution_count": 24,
     "metadata": {},
     "output_type": "execute_result"
    }
   ],
   "source": [
    "omatrix"
   ]
  },
  {
   "cell_type": "code",
   "execution_count": 22,
   "metadata": {
    "id": "VBUxR-a0IfDY"
   },
   "outputs": [
    {
     "data": {
      "text/plain": [
       "array([-1.,  4.,  9.])"
      ]
     },
     "execution_count": 22,
     "metadata": {},
     "output_type": "execute_result"
    }
   ],
   "source": [
    "(omatrix + 10 / 10 - 3)[:,1] # what is the output?"
   ]
  },
  {
   "cell_type": "code",
   "execution_count": 23,
   "metadata": {
    "colab": {
     "base_uri": "https://localhost:8080/"
    },
    "executionInfo": {
     "elapsed": 556,
     "status": "ok",
     "timestamp": 1615195240396,
     "user": {
      "displayName": "Orion Cloud",
      "photoUrl": "",
      "userId": "13399699001942214669"
     },
     "user_tz": -180
    },
    "id": "1hHcXr2RIyjY",
    "outputId": "e4cf317d-f2e3-4f80-a370-1cf9f9a13c33",
    "scrolled": true
   },
   "outputs": [
    {
     "data": {
      "text/plain": [
       "array([[0.        , 0.07142857, 0.14285714, 0.21428571, 0.28571429],\n",
       "       [0.35714286, 0.42857143, 0.5       , 0.57142857, 0.64285714],\n",
       "       [0.71428571, 0.78571429, 0.85714286, 0.92857143, 1.        ]])"
      ]
     },
     "execution_count": 23,
     "metadata": {},
     "output_type": "execute_result"
    }
   ],
   "source": [
    "omatrix / omatrix.max() # scaling"
   ]
  },
  {
   "cell_type": "markdown",
   "metadata": {
    "id": "66kMrIWKma2x"
   },
   "source": [
    "## Universal Array Functions"
   ]
  },
  {
   "cell_type": "markdown",
   "metadata": {
    "id": "0JGBGM2cma2y"
   },
   "source": [
    "#### Numpy comes with many [universal array functions](http://docs.scipy.org/doc/numpy/reference/ufuncs.html), which are essentially just mathematical operations you can use to perform the operation across the array. Let's show some common ones:"
   ]
  },
  {
   "cell_type": "code",
   "execution_count": 25,
   "metadata": {
    "colab": {
     "base_uri": "https://localhost:8080/"
    },
    "executionInfo": {
     "elapsed": 657,
     "status": "ok",
     "timestamp": 1615195489978,
     "user": {
      "displayName": "Orion Cloud",
      "photoUrl": "",
      "userId": "13399699001942214669"
     },
     "user_tz": -180
    },
    "id": "3_jgP6dlma2z",
    "outputId": "0176b1b9-0d0c-4a72-9bd0-7e8e27f147b0",
    "scrolled": true
   },
   "outputs": [
    {
     "data": {
      "text/plain": [
       "array([ 0, 10, 20, 30, 40, 50, 60, 70, 80, 90])"
      ]
     },
     "execution_count": 25,
     "metadata": {},
     "output_type": "execute_result"
    }
   ],
   "source": [
    "arr "
   ]
  },
  {
   "cell_type": "code",
   "execution_count": 26,
   "metadata": {
    "colab": {
     "base_uri": "https://localhost:8080/"
    },
    "executionInfo": {
     "elapsed": 1103,
     "status": "ok",
     "timestamp": 1615195629115,
     "user": {
      "displayName": "Orion Cloud",
      "photoUrl": "",
      "userId": "13399699001942214669"
     },
     "user_tz": -180
    },
    "id": "y_RsfizBma20",
    "outputId": "0d6063bc-ceae-4dd3-835a-f3aa1333aa06",
    "scrolled": true
   },
   "outputs": [
    {
     "data": {
      "text/plain": [
       "3.0"
      ]
     },
     "execution_count": 26,
     "metadata": {},
     "output_type": "execute_result"
    }
   ],
   "source": [
    "np.log10(1000)"
   ]
  },
  {
   "cell_type": "code",
   "execution_count": 27,
   "metadata": {
    "colab": {
     "base_uri": "https://localhost:8080/"
    },
    "executionInfo": {
     "elapsed": 538,
     "status": "ok",
     "timestamp": 1615195680921,
     "user": {
      "displayName": "Orion Cloud",
      "photoUrl": "",
      "userId": "13399699001942214669"
     },
     "user_tz": -180
    },
    "id": "nTPDTiuYma20",
    "outputId": "221ebd53-6e5e-4b28-c3cc-76de3d133470",
    "scrolled": true
   },
   "outputs": [
    {
     "name": "stderr",
     "output_type": "stream",
     "text": [
      "<ipython-input-27-4473232fb1a0>:1: RuntimeWarning: divide by zero encountered in log10\n",
      "  np.log10(arr)\n"
     ]
    },
    {
     "data": {
      "text/plain": [
       "array([      -inf, 1.        , 1.30103   , 1.47712125, 1.60205999,\n",
       "       1.69897   , 1.77815125, 1.84509804, 1.90308999, 1.95424251])"
      ]
     },
     "execution_count": 27,
     "metadata": {},
     "output_type": "execute_result"
    }
   ],
   "source": [
    "np.log10(arr)"
   ]
  },
  {
   "cell_type": "code",
   "execution_count": 28,
   "metadata": {
    "colab": {
     "base_uri": "https://localhost:8080/"
    },
    "executionInfo": {
     "elapsed": 735,
     "status": "ok",
     "timestamp": 1615195729552,
     "user": {
      "displayName": "Orion Cloud",
      "photoUrl": "",
      "userId": "13399699001942214669"
     },
     "user_tz": -180
    },
    "id": "_zolHhZNma21",
    "outputId": "b9a8d083-34c8-4d4c-96e3-8253cc7bd2d7",
    "scrolled": true
   },
   "outputs": [
    {
     "data": {
      "text/plain": [
       "array([0.        , 1.04139269, 1.32221929, 1.49136169, 1.61278386,\n",
       "       1.70757018, 1.78532984, 1.85125835, 1.90848502, 1.95904139])"
      ]
     },
     "execution_count": 28,
     "metadata": {},
     "output_type": "execute_result"
    }
   ],
   "source": [
    "np.log10(arr+1) # you will use  that a lot in scaling"
   ]
  },
  {
   "cell_type": "code",
   "execution_count": 29,
   "metadata": {
    "colab": {
     "base_uri": "https://localhost:8080/"
    },
    "executionInfo": {
     "elapsed": 536,
     "status": "ok",
     "timestamp": 1615195756492,
     "user": {
      "displayName": "Orion Cloud",
      "photoUrl": "",
      "userId": "13399699001942214669"
     },
     "user_tz": -180
    },
    "id": "FPjY2KOsma22",
    "outputId": "7ea00780-61f2-41e0-e466-1a2b58c7f074",
    "scrolled": true
   },
   "outputs": [
    {
     "data": {
      "text/plain": [
       "array([0.        , 3.16227766, 4.47213595, 5.47722558, 6.32455532,\n",
       "       7.07106781, 7.74596669, 8.36660027, 8.94427191, 9.48683298])"
      ]
     },
     "execution_count": 29,
     "metadata": {},
     "output_type": "execute_result"
    }
   ],
   "source": [
    "np.sqrt(arr)"
   ]
  },
  {
   "cell_type": "code",
   "execution_count": 30,
   "metadata": {
    "colab": {
     "base_uri": "https://localhost:8080/"
    },
    "executionInfo": {
     "elapsed": 571,
     "status": "ok",
     "timestamp": 1615195877731,
     "user": {
      "displayName": "Orion Cloud",
      "photoUrl": "",
      "userId": "13399699001942214669"
     },
     "user_tz": -180
    },
    "id": "qyAn_pWUma23",
    "outputId": "64b22f03-3a7f-4c5b-e88e-9afcb5a24655",
    "scrolled": true
   },
   "outputs": [
    {
     "data": {
      "text/plain": [
       "array([1.00000000e+00, 2.20264658e+04, 4.85165195e+08, 1.06864746e+13,\n",
       "       2.35385267e+17, 5.18470553e+21, 1.14200739e+26, 2.51543867e+30,\n",
       "       5.54062238e+34, 1.22040329e+39])"
      ]
     },
     "execution_count": 30,
     "metadata": {},
     "output_type": "execute_result"
    }
   ],
   "source": [
    "np.exp(arr)"
   ]
  },
  {
   "cell_type": "code",
   "execution_count": 31,
   "metadata": {},
   "outputs": [
    {
     "data": {
      "text/plain": [
       "array([ 0, 10, 20, 30, 40, 50, 60, 70, 80, 90])"
      ]
     },
     "execution_count": 31,
     "metadata": {},
     "output_type": "execute_result"
    }
   ],
   "source": [
    "arr"
   ]
  },
  {
   "cell_type": "code",
   "execution_count": 30,
   "metadata": {
    "colab": {
     "base_uri": "https://localhost:8080/"
    },
    "executionInfo": {
     "elapsed": 1046,
     "status": "ok",
     "timestamp": 1615196241313,
     "user": {
      "displayName": "Orion Cloud",
      "photoUrl": "",
      "userId": "13399699001942214669"
     },
     "user_tz": -180
    },
    "id": "XkQoWqkkma24",
    "outputId": "846a90bb-8278-4500-afce-29c0cf47ddc9",
    "scrolled": true
   },
   "outputs": [
    {
     "data": {
      "text/plain": [
       "array([4, 2, 4, 2, 4, 2, 4, 2, 4, 2])"
      ]
     },
     "execution_count": 30,
     "metadata": {},
     "output_type": "execute_result"
    }
   ],
   "source": [
    "np.gcd(arr,4) # Returns the greatest common divisor of |x1| and |x2|"
   ]
  },
  {
   "cell_type": "code",
   "execution_count": 31,
   "metadata": {
    "colab": {
     "base_uri": "https://localhost:8080/"
    },
    "executionInfo": {
     "elapsed": 669,
     "status": "ok",
     "timestamp": 1615196155371,
     "user": {
      "displayName": "Orion Cloud",
      "photoUrl": "",
      "userId": "13399699001942214669"
     },
     "user_tz": -180
    },
    "id": "kEmOw58Lma25",
    "outputId": "d3843d05-90dd-4b67-edd7-1098d3dc0a6b",
    "scrolled": true
   },
   "outputs": [
    {
     "data": {
      "text/plain": [
       "array([  0,  20,  20,  60,  40, 100,  60, 140,  80, 180])"
      ]
     },
     "execution_count": 31,
     "metadata": {},
     "output_type": "execute_result"
    }
   ],
   "source": [
    "np.lcm(4,arr) # Returns the lowest common multiple of |x1| and |x2|"
   ]
  },
  {
   "cell_type": "markdown",
   "metadata": {
    "id": "f1uaXn9uU39e"
   },
   "source": [
    "## A sample solve in Linear Algebra using NumPy"
   ]
  },
  {
   "cell_type": "code",
   "execution_count": 32,
   "metadata": {
    "id": "c8TvXbupU6vr",
    "scrolled": true
   },
   "outputs": [],
   "source": [
    "# 3*x + y = 9\n",
    "# x + 2*y = 8"
   ]
  },
  {
   "cell_type": "code",
   "execution_count": 60,
   "metadata": {
    "colab": {
     "base_uri": "https://localhost:8080/"
    },
    "executionInfo": {
     "elapsed": 1140,
     "status": "ok",
     "timestamp": 1615198470144,
     "user": {
      "displayName": "Orion Cloud",
      "photoUrl": "",
      "userId": "13399699001942214669"
     },
     "user_tz": -180
    },
    "id": "4yxT83J2U6tI",
    "outputId": "af85fbc2-4f8c-4a21-e729-b55d8d3d4db8",
    "scrolled": true
   },
   "outputs": [
    {
     "name": "stdout",
     "output_type": "stream",
     "text": [
      "[[3 1]\n",
      " [1 2]]\n",
      "[9 8]\n"
     ]
    }
   ],
   "source": [
    "a = np.array([[3, 1], [1, 2]])\n",
    "b = np.array([9, 8])\n",
    "print(a)\n",
    "print(b)"
   ]
  },
  {
   "cell_type": "code",
   "execution_count": 61,
   "metadata": {
    "colab": {
     "base_uri": "https://localhost:8080/"
    },
    "executionInfo": {
     "elapsed": 555,
     "status": "ok",
     "timestamp": 1615198480958,
     "user": {
      "displayName": "Orion Cloud",
      "photoUrl": "",
      "userId": "13399699001942214669"
     },
     "user_tz": -180
    },
    "id": "xIjVI4RQVDWf",
    "outputId": "5b45f111-786a-4430-d53b-2085ed713fa5",
    "scrolled": true
   },
   "outputs": [
    {
     "data": {
      "text/plain": [
       "array([2., 3.])"
      ]
     },
     "execution_count": 61,
     "metadata": {},
     "output_type": "execute_result"
    }
   ],
   "source": [
    "np.linalg.solve(a, b)"
   ]
  },
  {
   "cell_type": "markdown",
   "metadata": {
    "id": "MmfObDywma29"
   },
   "source": [
    "___\n",
    "\n",
    "\n",
    "<p style=\"text-align: center;\"><img src=\"https://docs.google.com/uc?id=1lY0Uj5R04yMY3-ZppPWxqCr5pvBLYPnV\" class=\"img-fluid\" alt=\"Rossum\"></p>\n",
    "\n",
    "___"
   ]
  },
  {
   "cell_type": "markdown",
   "metadata": {
    "id": "VPNLMNXvma29"
   },
   "source": [
    "## You can take a look at an attractive [official tutorial](https://numpy.org/devdocs/user/absolute_beginners.html) for beginners of NumPy."
   ]
  },
  {
   "cell_type": "code",
   "execution_count": null,
   "metadata": {},
   "outputs": [],
   "source": []
  },
  {
   "cell_type": "code",
   "execution_count": null,
   "metadata": {},
   "outputs": [],
   "source": []
  },
  {
   "cell_type": "code",
   "execution_count": null,
   "metadata": {},
   "outputs": [],
   "source": []
  },
  {
   "cell_type": "code",
   "execution_count": null,
   "metadata": {},
   "outputs": [],
   "source": []
  },
  {
   "cell_type": "code",
   "execution_count": null,
   "metadata": {},
   "outputs": [],
   "source": []
  },
  {
   "cell_type": "code",
   "execution_count": null,
   "metadata": {},
   "outputs": [],
   "source": []
  },
  {
   "cell_type": "markdown",
   "metadata": {
    "id": "mtyilpWzma25"
   },
   "source": [
    "## Statistical Calculations"
   ]
  },
  {
   "cell_type": "markdown",
   "metadata": {
    "id": "IRoTGdNnma27"
   },
   "source": [
    "* ``np.mean(arr,axis=0)`` | Returns mean along specific axis\n",
    "\n",
    "* ``arr.sum()`` | Returns sum of arr\n",
    "\n",
    "* ``arr.min()`` | Returns minimum value of arr\n",
    "\n",
    "* ``arr.max(axis=0)`` | Returns maximum value of specific axis\n",
    "\n",
    "* ``np.var(arr)`` | Returns the variance of array\n",
    "\n",
    "* ``np.std(arr,axis=1)`` | Returns the standard deviation of specific axis\n",
    "\n",
    "* ``arr.corrcoef()`` | Returns correlation coefficient of array"
   ]
  },
  {
   "cell_type": "code",
   "execution_count": 32,
   "metadata": {
    "colab": {
     "base_uri": "https://localhost:8080/"
    },
    "executionInfo": {
     "elapsed": 644,
     "status": "ok",
     "timestamp": 1615198819416,
     "user": {
      "displayName": "Orion Cloud",
      "photoUrl": "",
      "userId": "13399699001942214669"
     },
     "user_tz": -180
    },
    "id": "Op6qq0PFVoI2",
    "outputId": "8b598cf2-d8b3-4dd9-e620-1ec0039c67b0",
    "scrolled": true
   },
   "outputs": [
    {
     "data": {
      "text/plain": [
       "array([[ 0,  1,  2,  3,  4],\n",
       "       [ 5,  6,  7,  8,  9],\n",
       "       [10, 11, 12, 13, 14]])"
      ]
     },
     "execution_count": 32,
     "metadata": {},
     "output_type": "execute_result"
    }
   ],
   "source": [
    "omatrix"
   ]
  },
  {
   "cell_type": "code",
   "execution_count": 33,
   "metadata": {
    "collapsed": true,
    "id": "vngDh2lJVoGO",
    "jupyter": {
     "outputs_hidden": true
    }
   },
   "outputs": [
    {
     "name": "stdout",
     "output_type": "stream",
     "text": [
      "7.0\n",
      "[5. 6. 7. 8. 9.]\n"
     ]
    }
   ],
   "source": [
    "# what is the output?\n",
    "print(np.mean(omatrix))\n",
    "print(np.mean(omatrix,axis=0))\n"
   ]
  },
  {
   "cell_type": "code",
   "execution_count": 34,
   "metadata": {
    "colab": {
     "base_uri": "https://localhost:8080/"
    },
    "executionInfo": {
     "elapsed": 626,
     "status": "ok",
     "timestamp": 1615199161975,
     "user": {
      "displayName": "Orion Cloud",
      "photoUrl": "",
      "userId": "13399699001942214669"
     },
     "user_tz": -180
    },
    "id": "HIZMN9rWVoCv",
    "outputId": "228ea6e3-c153-477d-f915-3882e2fccd0a",
    "scrolled": true
   },
   "outputs": [
    {
     "data": {
      "text/plain": [
       "array([ 2.,  7., 12.])"
      ]
     },
     "execution_count": 34,
     "metadata": {},
     "output_type": "execute_result"
    }
   ],
   "source": [
    "np.median(omatrix,axis=1)"
   ]
  },
  {
   "cell_type": "code",
   "execution_count": 35,
   "metadata": {
    "colab": {
     "base_uri": "https://localhost:8080/"
    },
    "executionInfo": {
     "elapsed": 514,
     "status": "ok",
     "timestamp": 1615199198540,
     "user": {
      "displayName": "Orion Cloud",
      "photoUrl": "",
      "userId": "13399699001942214669"
     },
     "user_tz": -180
    },
    "id": "Thlw3C1OVn_5",
    "outputId": "a3cfb1a1-cd19-490d-ca0d-d2d8489c7781",
    "scrolled": true
   },
   "outputs": [
    {
     "data": {
      "text/plain": [
       "array([ 0, 10, 20, 30, 40, 50, 60, 70, 80, 90])"
      ]
     },
     "execution_count": 35,
     "metadata": {},
     "output_type": "execute_result"
    }
   ],
   "source": [
    "arr"
   ]
  },
  {
   "cell_type": "code",
   "execution_count": 36,
   "metadata": {
    "colab": {
     "base_uri": "https://localhost:8080/"
    },
    "executionInfo": {
     "elapsed": 669,
     "status": "ok",
     "timestamp": 1615199205384,
     "user": {
      "displayName": "Orion Cloud",
      "photoUrl": "",
      "userId": "13399699001942214669"
     },
     "user_tz": -180
    },
    "id": "vrrmgtaOVn9A",
    "outputId": "3f06de85-2900-4ee1-9702-8f7ed909cabc",
    "scrolled": true
   },
   "outputs": [
    {
     "data": {
      "text/plain": [
       "450"
      ]
     },
     "execution_count": 36,
     "metadata": {},
     "output_type": "execute_result"
    }
   ],
   "source": [
    "arr.sum()"
   ]
  },
  {
   "cell_type": "code",
   "execution_count": 37,
   "metadata": {
    "colab": {
     "base_uri": "https://localhost:8080/"
    },
    "executionInfo": {
     "elapsed": 489,
     "status": "ok",
     "timestamp": 1615199271756,
     "user": {
      "displayName": "Orion Cloud",
      "photoUrl": "",
      "userId": "13399699001942214669"
     },
     "user_tz": -180
    },
    "id": "JvaB_Gy5Vn6y",
    "outputId": "da030d69-472d-47a6-fbc0-d352ed7aae87",
    "scrolled": true
   },
   "outputs": [
    {
     "data": {
      "text/plain": [
       "0"
      ]
     },
     "execution_count": 37,
     "metadata": {},
     "output_type": "execute_result"
    }
   ],
   "source": [
    "np.min(omatrix)"
   ]
  },
  {
   "cell_type": "code",
   "execution_count": 38,
   "metadata": {
    "colab": {
     "base_uri": "https://localhost:8080/"
    },
    "executionInfo": {
     "elapsed": 550,
     "status": "ok",
     "timestamp": 1615199291821,
     "user": {
      "displayName": "Orion Cloud",
      "photoUrl": "",
      "userId": "13399699001942214669"
     },
     "user_tz": -180
    },
    "id": "eceZUzYJVn39",
    "outputId": "96493325-6dbf-44a9-ca9a-945bdca79f13",
    "scrolled": true
   },
   "outputs": [
    {
     "data": {
      "text/plain": [
       "array([10, 11, 12, 13, 14])"
      ]
     },
     "execution_count": 38,
     "metadata": {},
     "output_type": "execute_result"
    }
   ],
   "source": [
    "np.max(omatrix,axis=0)"
   ]
  },
  {
   "cell_type": "code",
   "execution_count": 41,
   "metadata": {
    "colab": {
     "base_uri": "https://localhost:8080/"
    },
    "executionInfo": {
     "elapsed": 551,
     "status": "ok",
     "timestamp": 1615199652911,
     "user": {
      "displayName": "Orion Cloud",
      "photoUrl": "",
      "userId": "13399699001942214669"
     },
     "user_tz": -180
    },
    "id": "p74ZNgSVma26",
    "outputId": "d86a6bfa-1759-441e-9570-0346384dc993",
    "scrolled": true
   },
   "outputs": [
    {
     "data": {
      "text/plain": [
       "array([[ 9,  0,  1],\n",
       "       [ 2,  3,  4],\n",
       "       [13, 14,  5],\n",
       "       [10, 11, 12],\n",
       "       [ 6,  7,  8]])"
      ]
     },
     "execution_count": 41,
     "metadata": {},
     "output_type": "execute_result"
    }
   ],
   "source": [
    "np.random.shuffle(omatrix)\n",
    "omatrix.resize(5,3)\n",
    "omatrix"
   ]
  },
  {
   "cell_type": "code",
   "execution_count": 42,
   "metadata": {
    "colab": {
     "base_uri": "https://localhost:8080/"
    },
    "collapsed": true,
    "executionInfo": {
     "elapsed": 609,
     "status": "ok",
     "timestamp": 1615199675653,
     "user": {
      "displayName": "Orion Cloud",
      "photoUrl": "",
      "userId": "13399699001942214669"
     },
     "user_tz": -180
    },
    "id": "NWsmD9ofZLNx",
    "jupyter": {
     "outputs_hidden": true
    },
    "outputId": "2c2c9090-8dbc-4305-8baa-ae6f6c749b91"
   },
   "outputs": [
    {
     "data": {
      "text/plain": [
       "array([ 9,  4, 14, 12,  8])"
      ]
     },
     "execution_count": 42,
     "metadata": {},
     "output_type": "execute_result"
    }
   ],
   "source": [
    "np.max(omatrix,axis=1) # what is the output?"
   ]
  },
  {
   "cell_type": "code",
   "execution_count": 43,
   "metadata": {
    "colab": {
     "base_uri": "https://localhost:8080/"
    },
    "executionInfo": {
     "elapsed": 668,
     "status": "ok",
     "timestamp": 1615200059281,
     "user": {
      "displayName": "Orion Cloud",
      "photoUrl": "",
      "userId": "13399699001942214669"
     },
     "user_tz": -180
    },
    "id": "J4sSBX2YbPN2",
    "outputId": "18538984-3e7f-4bd4-e146-3af97ec0c9d9",
    "scrolled": true
   },
   "outputs": [
    {
     "data": {
      "text/plain": [
       "array([ 0, 10, 20, 30, 40, 50, 60, 70, 80, 90])"
      ]
     },
     "execution_count": 43,
     "metadata": {},
     "output_type": "execute_result"
    }
   ],
   "source": [
    "arr"
   ]
  },
  {
   "cell_type": "code",
   "execution_count": 44,
   "metadata": {
    "colab": {
     "base_uri": "https://localhost:8080/"
    },
    "executionInfo": {
     "elapsed": 554,
     "status": "ok",
     "timestamp": 1615200492409,
     "user": {
      "displayName": "Orion Cloud",
      "photoUrl": "",
      "userId": "13399699001942214669"
     },
     "user_tz": -180
    },
    "id": "ojMDu20bZ57i",
    "outputId": "a7eaca1e-856f-4f90-d537-3c01b191b85f",
    "scrolled": true
   },
   "outputs": [
    {
     "data": {
      "text/plain": [
       "825.0"
      ]
     },
     "execution_count": 44,
     "metadata": {},
     "output_type": "execute_result"
    }
   ],
   "source": [
    "np.var(arr)"
   ]
  },
  {
   "cell_type": "markdown",
   "metadata": {
    "id": "-i0_yS36a5ql"
   },
   "source": [
    "![image_2021-03-08_133934.png](data:image/png;base64,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)"
   ]
  },
  {
   "cell_type": "code",
   "execution_count": 45,
   "metadata": {
    "colab": {
     "base_uri": "https://localhost:8080/"
    },
    "executionInfo": {
     "elapsed": 498,
     "status": "ok",
     "timestamp": 1615200598642,
     "user": {
      "displayName": "Orion Cloud",
      "photoUrl": "",
      "userId": "13399699001942214669"
     },
     "user_tz": -180
    },
    "id": "Inf2CoqHb2Ty",
    "outputId": "8913bc99-023d-41df-fab6-3f1b47ae6d0b",
    "scrolled": true
   },
   "outputs": [
    {
     "data": {
      "text/plain": [
       "array([2025., 1225.,  625.,  225.,   25.,   25.,  225.,  625., 1225.,\n",
       "       2025.])"
      ]
     },
     "execution_count": 45,
     "metadata": {},
     "output_type": "execute_result"
    }
   ],
   "source": [
    "upper = (arr - arr.mean()) ** 2 \n",
    "upper"
   ]
  },
  {
   "cell_type": "code",
   "execution_count": 46,
   "metadata": {
    "colab": {
     "base_uri": "https://localhost:8080/"
    },
    "executionInfo": {
     "elapsed": 470,
     "status": "ok",
     "timestamp": 1615200646656,
     "user": {
      "displayName": "Orion Cloud",
      "photoUrl": "",
      "userId": "13399699001942214669"
     },
     "user_tz": -180
    },
    "id": "lNdFKlK8cgeC",
    "outputId": "2ea54956-d99f-4686-a17c-a7fa71a89e62",
    "scrolled": true
   },
   "outputs": [
    {
     "data": {
      "text/plain": [
       "9"
      ]
     },
     "execution_count": 46,
     "metadata": {},
     "output_type": "execute_result"
    }
   ],
   "source": [
    "lower = arr.size - 1 \n",
    "lower"
   ]
  },
  {
   "cell_type": "code",
   "execution_count": 47,
   "metadata": {
    "colab": {
     "base_uri": "https://localhost:8080/"
    },
    "executionInfo": {
     "elapsed": 567,
     "status": "ok",
     "timestamp": 1615200647914,
     "user": {
      "displayName": "Orion Cloud",
      "photoUrl": "",
      "userId": "13399699001942214669"
     },
     "user_tz": -180
    },
    "id": "10V_9l1DbE6A",
    "outputId": "e4c6af16-aea0-48d5-f282-342b7e69ab9f",
    "scrolled": true
   },
   "outputs": [
    {
     "data": {
      "text/plain": [
       "916.6666666666666"
      ]
     },
     "execution_count": 47,
     "metadata": {},
     "output_type": "execute_result"
    }
   ],
   "source": [
    "np.sum(upper) / lower"
   ]
  },
  {
   "cell_type": "code",
   "execution_count": 49,
   "metadata": {},
   "outputs": [
    {
     "data": {
      "text/plain": [
       "825.0"
      ]
     },
     "execution_count": 49,
     "metadata": {},
     "output_type": "execute_result"
    }
   ],
   "source": [
    "np.var(arr)"
   ]
  },
  {
   "cell_type": "code",
   "execution_count": 50,
   "metadata": {
    "colab": {
     "base_uri": "https://localhost:8080/"
    },
    "executionInfo": {
     "elapsed": 953,
     "status": "ok",
     "timestamp": 1615200803464,
     "user": {
      "displayName": "Orion Cloud",
      "photoUrl": "",
      "userId": "13399699001942214669"
     },
     "user_tz": -180
    },
    "id": "7IlfErBceAqA",
    "outputId": "f69d80bf-b7df-41e9-d2af-81be5cd68d95",
    "scrolled": true
   },
   "outputs": [
    {
     "data": {
      "text/plain": [
       "916.6666666666666"
      ]
     },
     "execution_count": 50,
     "metadata": {},
     "output_type": "execute_result"
    }
   ],
   "source": [
    "np.var(arr,ddof=1) # to get  sample variance"
   ]
  },
  {
   "cell_type": "code",
   "execution_count": 51,
   "metadata": {
    "colab": {
     "base_uri": "https://localhost:8080/"
    },
    "executionInfo": {
     "elapsed": 563,
     "status": "ok",
     "timestamp": 1615200850286,
     "user": {
      "displayName": "Orion Cloud",
      "photoUrl": "",
      "userId": "13399699001942214669"
     },
     "user_tz": -180
    },
    "id": "zWMFsiKWeNrV",
    "outputId": "55353dbb-9921-4517-d49b-623e6d3e51b2",
    "scrolled": true
   },
   "outputs": [
    {
     "data": {
      "text/plain": [
       "28.722813232690143"
      ]
     },
     "execution_count": 51,
     "metadata": {},
     "output_type": "execute_result"
    }
   ],
   "source": [
    "np.std(arr) # population"
   ]
  },
  {
   "cell_type": "code",
   "execution_count": 52,
   "metadata": {
    "colab": {
     "base_uri": "https://localhost:8080/"
    },
    "executionInfo": {
     "elapsed": 662,
     "status": "ok",
     "timestamp": 1615201565564,
     "user": {
      "displayName": "Orion Cloud",
      "photoUrl": "",
      "userId": "13399699001942214669"
     },
     "user_tz": -180
    },
    "id": "LEU_BLV4eNgy",
    "outputId": "6ad0fc80-d8a5-4104-b04c-20b4f7f7bc90",
    "scrolled": true
   },
   "outputs": [
    {
     "data": {
      "text/plain": [
       "28.722813232690143"
      ]
     },
     "execution_count": 52,
     "metadata": {},
     "output_type": "execute_result"
    }
   ],
   "source": [
    "np.var(arr) ** .5"
   ]
  },
  {
   "cell_type": "code",
   "execution_count": 53,
   "metadata": {
    "colab": {
     "base_uri": "https://localhost:8080/"
    },
    "executionInfo": {
     "elapsed": 756,
     "status": "ok",
     "timestamp": 1615201864763,
     "user": {
      "displayName": "Orion Cloud",
      "photoUrl": "",
      "userId": "13399699001942214669"
     },
     "user_tz": -180
    },
    "id": "3wrAaegVhG-5",
    "outputId": "292582a4-5627-4425-9d39-a330f9e90718",
    "scrolled": true
   },
   "outputs": [
    {
     "data": {
      "text/plain": [
       "array([ 0, 10, 20, 30, 40, 50, 60, 70, 80, 90])"
      ]
     },
     "execution_count": 53,
     "metadata": {},
     "output_type": "execute_result"
    }
   ],
   "source": [
    "arr"
   ]
  },
  {
   "cell_type": "code",
   "execution_count": 54,
   "metadata": {
    "colab": {
     "base_uri": "https://localhost:8080/"
    },
    "executionInfo": {
     "elapsed": 610,
     "status": "ok",
     "timestamp": 1615202764597,
     "user": {
      "displayName": "Orion Cloud",
      "photoUrl": "",
      "userId": "13399699001942214669"
     },
     "user_tz": -180
    },
    "id": "LuFusOPClgN5",
    "outputId": "d26776fc-8369-4a39-e744-bc2501673ea7",
    "scrolled": true
   },
   "outputs": [
    {
     "data": {
      "text/plain": [
       "1.0"
      ]
     },
     "execution_count": 54,
     "metadata": {},
     "output_type": "execute_result"
    }
   ],
   "source": [
    "np.corrcoef(arr)"
   ]
  }
 ],
 "metadata": {
  "colab": {
   "collapsed_sections": [
    "hB9oa7lRlz_3",
    "rxs61SmMma2m",
    "SY5DsG6yOQfd",
    "P4yvSG3sma2u",
    "66kMrIWKma2x",
    "mtyilpWzma25",
    "f1uaXn9uU39e"
   ],
   "name": "LAB-NumPy-Session2 (Indexing, Selection, Operations)(Student)1.ipynb",
   "provenance": []
  },
  "kernelspec": {
   "display_name": "Python 3",
   "language": "python",
   "name": "python3"
  },
  "language_info": {
   "codemirror_mode": {
    "name": "ipython",
    "version": 3
   },
   "file_extension": ".py",
   "mimetype": "text/x-python",
   "name": "python",
   "nbconvert_exporter": "python",
   "pygments_lexer": "ipython3",
   "version": "3.8.5"
  }
 },
 "nbformat": 4,
 "nbformat_minor": 4
}
