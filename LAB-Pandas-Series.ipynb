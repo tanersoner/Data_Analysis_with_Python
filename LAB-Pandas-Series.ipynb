{
 "cells": [
  {
   "cell_type": "markdown",
   "metadata": {
    "id": "anaUcL2fzkYU"
   },
   "source": [
    "___\n",
    "\n",
    "\n",
    "<p style=\"text-align: center;\"><img src=\"https://docs.google.com/uc?id=1lY0Uj5R04yMY3-ZppPWxqCr5pvBLYPnV\" class=\"img-fluid\" alt=\"Rossum\"></p>\n",
    "\n",
    "___"
   ]
  },
  {
   "cell_type": "markdown",
   "metadata": {
    "id": "szLabZ3pzkYb"
   },
   "source": [
    "<h1><p style=\"text-align: center;\">Pandas Series, Session - 3</p><h1>"
   ]
  },
  {
   "cell_type": "markdown",
   "metadata": {
    "id": "O5c7_p-_zkYb"
   },
   "source": [
    "## Creating a Pandas Series"
   ]
  },
  {
   "cell_type": "code",
   "execution_count": null,
   "metadata": {
    "id": "nSnvMiBHzkYb"
   },
   "outputs": [],
   "source": [
    "#pip install pandas"
   ]
  },
  {
   "cell_type": "code",
   "execution_count": 1,
   "metadata": {
    "id": "gHYHD3ZOzkYc"
   },
   "outputs": [],
   "source": [
    "import numpy as np\n",
    "import pandas as pd"
   ]
  },
  {
   "cell_type": "markdown",
   "metadata": {
    "id": "442dqY2gzkYc"
   },
   "source": [
    "### Creating a Pandas Series with Basic Format"
   ]
  },
  {
   "cell_type": "code",
   "execution_count": 2,
   "metadata": {
    "colab": {
     "base_uri": "https://localhost:8080/"
    },
    "executionInfo": {
     "elapsed": 1085,
     "status": "ok",
     "timestamp": 1615273806168,
     "user": {
      "displayName": "Orion Cloud",
      "photoUrl": "",
      "userId": "13399699001942214669"
     },
     "user_tz": -180
    },
    "id": "9s1yLYVQzySw",
    "outputId": "8ea08d79-5dd4-4215-c452-96062f8822db"
   },
   "outputs": [
    {
     "data": {
      "text/plain": [
       "[45, 52, 74, 7, 1]"
      ]
     },
     "execution_count": 2,
     "metadata": {},
     "output_type": "execute_result"
    }
   ],
   "source": [
    "a = [np.random.randint(0,100) for i in range(5)]\n",
    "a"
   ]
  },
  {
   "cell_type": "code",
   "execution_count": 3,
   "metadata": {
    "colab": {
     "base_uri": "https://localhost:8080/"
    },
    "executionInfo": {
     "elapsed": 1307,
     "status": "ok",
     "timestamp": 1615273816180,
     "user": {
      "displayName": "Orion Cloud",
      "photoUrl": "",
      "userId": "13399699001942214669"
     },
     "user_tz": -180
    },
    "id": "HEhkWBgozkYc",
    "outputId": "ae65267e-682d-4a0e-89a8-dc229697222e"
   },
   "outputs": [
    {
     "data": {
      "text/plain": [
       "0    45\n",
       "1    52\n",
       "2    74\n",
       "3     7\n",
       "4     1\n",
       "dtype: int64"
      ]
     },
     "execution_count": 3,
     "metadata": {},
     "output_type": "execute_result"
    }
   ],
   "source": [
    "pd.Series(a)"
   ]
  },
  {
   "cell_type": "code",
   "execution_count": 4,
   "metadata": {
    "colab": {
     "base_uri": "https://localhost:8080/"
    },
    "executionInfo": {
     "elapsed": 980,
     "status": "ok",
     "timestamp": 1615274088703,
     "user": {
      "displayName": "Orion Cloud",
      "photoUrl": "",
      "userId": "13399699001942214669"
     },
     "user_tz": -180
    },
    "id": "prMNljoXzkYd",
    "outputId": "24f0cd05-661c-415d-c6ea-64b062152d88"
   },
   "outputs": [
    {
     "data": {
      "text/plain": [
       "0    45\n",
       "1    52\n",
       "2    74\n",
       "3     7\n",
       "4     1\n",
       "dtype: int64"
      ]
     },
     "execution_count": 4,
     "metadata": {},
     "output_type": "execute_result"
    }
   ],
   "source": [
    "ser = pd.Series(a)\n",
    "\n",
    "ser"
   ]
  },
  {
   "cell_type": "markdown",
   "metadata": {
    "id": "f-Va7qVfzkYe"
   },
   "source": [
    "### Basic Attributes of Series"
   ]
  },
  {
   "cell_type": "code",
   "execution_count": 5,
   "metadata": {
    "colab": {
     "base_uri": "https://localhost:8080/"
    },
    "executionInfo": {
     "elapsed": 1236,
     "status": "ok",
     "timestamp": 1615274189898,
     "user": {
      "displayName": "Orion Cloud",
      "photoUrl": "",
      "userId": "13399699001942214669"
     },
     "user_tz": -180
    },
    "id": "IdeiTHIlzkYe",
    "outputId": "b0f26c17-11af-47bc-8d92-8d55a5ed4146"
   },
   "outputs": [
    {
     "data": {
      "text/plain": [
       "pandas.core.series.Series"
      ]
     },
     "execution_count": 5,
     "metadata": {},
     "output_type": "execute_result"
    }
   ],
   "source": [
    "type(ser)"
   ]
  },
  {
   "cell_type": "code",
   "execution_count": 6,
   "metadata": {
    "colab": {
     "base_uri": "https://localhost:8080/"
    },
    "executionInfo": {
     "elapsed": 866,
     "status": "ok",
     "timestamp": 1615274250718,
     "user": {
      "displayName": "Orion Cloud",
      "photoUrl": "",
      "userId": "13399699001942214669"
     },
     "user_tz": -180
    },
    "id": "X_fhsjHQzkYe",
    "outputId": "f782ac26-13a4-4bee-e693-4961f80fbedc"
   },
   "outputs": [
    {
     "data": {
      "text/plain": [
       "dtype('int64')"
      ]
     },
     "execution_count": 6,
     "metadata": {},
     "output_type": "execute_result"
    }
   ],
   "source": [
    "ser.dtype"
   ]
  },
  {
   "cell_type": "code",
   "execution_count": 7,
   "metadata": {
    "id": "wORRD-h5zkYf",
    "outputId": "23dd2aff-e979-4f6b-c052-1c6abca3b3a3"
   },
   "outputs": [
    {
     "data": {
      "text/plain": [
       "5"
      ]
     },
     "execution_count": 7,
     "metadata": {},
     "output_type": "execute_result"
    }
   ],
   "source": [
    "ser.size"
   ]
  },
  {
   "cell_type": "code",
   "execution_count": 8,
   "metadata": {
    "colab": {
     "base_uri": "https://localhost:8080/"
    },
    "executionInfo": {
     "elapsed": 749,
     "status": "ok",
     "timestamp": 1615274255611,
     "user": {
      "displayName": "Orion Cloud",
      "photoUrl": "",
      "userId": "13399699001942214669"
     },
     "user_tz": -180
    },
    "id": "RAT9f1mwzkYf",
    "outputId": "8879cd48-4096-4dc4-bcb8-fcdcb016e700"
   },
   "outputs": [
    {
     "data": {
      "text/plain": [
       "1"
      ]
     },
     "execution_count": 8,
     "metadata": {},
     "output_type": "execute_result"
    }
   ],
   "source": [
    "ser.ndim"
   ]
  },
  {
   "cell_type": "code",
   "execution_count": 11,
   "metadata": {
    "colab": {
     "base_uri": "https://localhost:8080/"
    },
    "executionInfo": {
     "elapsed": 840,
     "status": "ok",
     "timestamp": 1615276202574,
     "user": {
      "displayName": "Orion Cloud",
      "photoUrl": "",
      "userId": "13399699001942214669"
     },
     "user_tz": -180
    },
    "id": "rg0ftmLA9nzV",
    "outputId": "9be912f1-0f0c-4957-9de6-5db1283c9e2c"
   },
   "outputs": [
    {
     "data": {
      "text/plain": [
       "RangeIndex(start=0, stop=5, step=1)"
      ]
     },
     "execution_count": 11,
     "metadata": {},
     "output_type": "execute_result"
    }
   ],
   "source": [
    "ser.index"
   ]
  },
  {
   "cell_type": "code",
   "execution_count": 9,
   "metadata": {
    "id": "dyrJjSE6zkYf",
    "outputId": "cd2e6b8b-9e5b-4573-cfab-12ac9b5e7ded"
   },
   "outputs": [
    {
     "data": {
      "text/plain": [
       "array([45, 52, 74,  7,  1], dtype=int64)"
      ]
     },
     "execution_count": 9,
     "metadata": {},
     "output_type": "execute_result"
    }
   ],
   "source": [
    "ser.values"
   ]
  },
  {
   "cell_type": "code",
   "execution_count": 10,
   "metadata": {
    "colab": {
     "base_uri": "https://localhost:8080/"
    },
    "executionInfo": {
     "elapsed": 1276,
     "status": "ok",
     "timestamp": 1615274333304,
     "user": {
      "displayName": "Orion Cloud",
      "photoUrl": "",
      "userId": "13399699001942214669"
     },
     "user_tz": -180
    },
    "id": "_6SUORW3zkYf",
    "outputId": "d959d694-6b29-4c51-db0c-fab3c386d202"
   },
   "outputs": [
    {
     "name": "stdout",
     "output_type": "stream",
     "text": [
      "45\n",
      "52\n",
      "74\n",
      "7\n",
      "1\n"
     ]
    },
    {
     "data": {
      "text/plain": [
       "[None, None, None, None, None]"
      ]
     },
     "execution_count": 10,
     "metadata": {},
     "output_type": "execute_result"
    }
   ],
   "source": [
    "[print(i) for i in ser.values]"
   ]
  },
  {
   "cell_type": "code",
   "execution_count": 12,
   "metadata": {
    "colab": {
     "base_uri": "https://localhost:8080/"
    },
    "executionInfo": {
     "elapsed": 956,
     "status": "ok",
     "timestamp": 1615274397648,
     "user": {
      "displayName": "Orion Cloud",
      "photoUrl": "",
      "userId": "13399699001942214669"
     },
     "user_tz": -180
    },
    "id": "ix_1W-v4zkYg",
    "outputId": "831d9626-8415-458f-9324-8102e53050ff"
   },
   "outputs": [
    {
     "data": {
      "text/plain": [
       "0    45\n",
       "1    52\n",
       "2    74\n",
       "dtype: int64"
      ]
     },
     "execution_count": 12,
     "metadata": {},
     "output_type": "execute_result"
    }
   ],
   "source": [
    "ser.head(3)"
   ]
  },
  {
   "cell_type": "code",
   "execution_count": 14,
   "metadata": {
    "colab": {
     "base_uri": "https://localhost:8080/"
    },
    "executionInfo": {
     "elapsed": 1269,
     "status": "ok",
     "timestamp": 1615274401166,
     "user": {
      "displayName": "Orion Cloud",
      "photoUrl": "",
      "userId": "13399699001942214669"
     },
     "user_tz": -180
    },
    "id": "nxMFos1LzkYg",
    "outputId": "c2fc8c31-c265-4a2b-ae6c-5ffd39c12d69"
   },
   "outputs": [
    {
     "data": {
      "text/plain": [
       "2    74\n",
       "3     7\n",
       "4     1\n",
       "dtype: int64"
      ]
     },
     "execution_count": 14,
     "metadata": {},
     "output_type": "execute_result"
    }
   ],
   "source": [
    "ser.tail(3)"
   ]
  },
  {
   "cell_type": "markdown",
   "metadata": {
    "id": "3_qEMQ8yzkYg"
   },
   "source": [
    "### Creating Pandas Series by Using a ``list``, numpy array or ``dict``ionary"
   ]
  },
  {
   "cell_type": "code",
   "execution_count": 15,
   "metadata": {
    "id": "mxyUr8jHzkYg"
   },
   "outputs": [],
   "source": [
    "labels = ['aron','baron','charon']\n",
    "my_list = [10,20,30]\n",
    "arr = np.array([10,20,30])\n",
    "d = {'a':10,'b':20,'c':30}\n"
   ]
  },
  {
   "cell_type": "markdown",
   "metadata": {
    "id": "7vi4Qb5XzkYh"
   },
   "source": [
    "### **Using Lists**"
   ]
  },
  {
   "cell_type": "code",
   "execution_count": 16,
   "metadata": {
    "colab": {
     "base_uri": "https://localhost:8080/"
    },
    "executionInfo": {
     "elapsed": 720,
     "status": "ok",
     "timestamp": 1615274791182,
     "user": {
      "displayName": "Orion Cloud",
      "photoUrl": "",
      "userId": "13399699001942214669"
     },
     "user_tz": -180
    },
    "id": "pKAO3TLQzkYh",
    "outputId": "825af731-771e-436a-caef-fca7884abd49"
   },
   "outputs": [
    {
     "data": {
      "text/plain": [
       "0    10\n",
       "1    20\n",
       "2    30\n",
       "dtype: int64"
      ]
     },
     "execution_count": 16,
     "metadata": {},
     "output_type": "execute_result"
    }
   ],
   "source": [
    "pd.Series(data = my_list)"
   ]
  },
  {
   "cell_type": "code",
   "execution_count": 17,
   "metadata": {
    "colab": {
     "base_uri": "https://localhost:8080/"
    },
    "executionInfo": {
     "elapsed": 1551,
     "status": "ok",
     "timestamp": 1615274793779,
     "user": {
      "displayName": "Orion Cloud",
      "photoUrl": "",
      "userId": "13399699001942214669"
     },
     "user_tz": -180
    },
    "id": "pv-f8VpQzkYh",
    "outputId": "9029d528-b198-4d3b-9dad-22c529b258e6"
   },
   "outputs": [
    {
     "data": {
      "text/plain": [
       "aron      10\n",
       "baron     20\n",
       "charon    30\n",
       "dtype: int64"
      ]
     },
     "execution_count": 17,
     "metadata": {},
     "output_type": "execute_result"
    }
   ],
   "source": [
    "pd.Series(data = my_list,index = labels)"
   ]
  },
  {
   "cell_type": "code",
   "execution_count": 18,
   "metadata": {
    "colab": {
     "base_uri": "https://localhost:8080/"
    },
    "executionInfo": {
     "elapsed": 1448,
     "status": "ok",
     "timestamp": 1615274813539,
     "user": {
      "displayName": "Orion Cloud",
      "photoUrl": "",
      "userId": "13399699001942214669"
     },
     "user_tz": -180
    },
    "id": "OKaFw19szkYh",
    "outputId": "e2f36a87-bacf-476e-f772-e55905e4fd66"
   },
   "outputs": [
    {
     "data": {
      "text/plain": [
       "aron      10\n",
       "baron     20\n",
       "charon    30\n",
       "dtype: int64"
      ]
     },
     "execution_count": 18,
     "metadata": {},
     "output_type": "execute_result"
    }
   ],
   "source": [
    "pd.Series(my_list, labels)"
   ]
  },
  {
   "cell_type": "markdown",
   "metadata": {
    "id": "3rT1mv5RzkYh"
   },
   "source": [
    "### **Using NumPy Arrays**"
   ]
  },
  {
   "cell_type": "code",
   "execution_count": 19,
   "metadata": {
    "id": "fDYZ2x_PzkYi",
    "outputId": "f9ed503e-bbca-4f64-cf57-431aec9bd58f"
   },
   "outputs": [
    {
     "data": {
      "text/plain": [
       "array([10, 20, 30])"
      ]
     },
     "execution_count": 19,
     "metadata": {},
     "output_type": "execute_result"
    }
   ],
   "source": [
    "arr"
   ]
  },
  {
   "cell_type": "code",
   "execution_count": 20,
   "metadata": {
    "colab": {
     "base_uri": "https://localhost:8080/"
    },
    "executionInfo": {
     "elapsed": 859,
     "status": "ok",
     "timestamp": 1615274828736,
     "user": {
      "displayName": "Orion Cloud",
      "photoUrl": "",
      "userId": "13399699001942214669"
     },
     "user_tz": -180
    },
    "id": "tjMwJDsWzkYi",
    "outputId": "20210b5e-5751-4d23-a317-61a66c8b66a8"
   },
   "outputs": [
    {
     "data": {
      "text/plain": [
       "0    10\n",
       "1    20\n",
       "2    30\n",
       "dtype: int32"
      ]
     },
     "execution_count": 20,
     "metadata": {},
     "output_type": "execute_result"
    }
   ],
   "source": [
    "pd.Series(arr)"
   ]
  },
  {
   "cell_type": "code",
   "execution_count": 21,
   "metadata": {
    "colab": {
     "base_uri": "https://localhost:8080/"
    },
    "executionInfo": {
     "elapsed": 1545,
     "status": "ok",
     "timestamp": 1615274835547,
     "user": {
      "displayName": "Orion Cloud",
      "photoUrl": "",
      "userId": "13399699001942214669"
     },
     "user_tz": -180
    },
    "id": "Lkg7wKlzzkYi",
    "outputId": "c893451e-aa7a-49f6-d3f4-424436083cee"
   },
   "outputs": [
    {
     "data": {
      "text/plain": [
       "aron      10\n",
       "baron     20\n",
       "charon    30\n",
       "dtype: int32"
      ]
     },
     "execution_count": 21,
     "metadata": {},
     "output_type": "execute_result"
    }
   ],
   "source": [
    "pd.Series(arr,labels)"
   ]
  },
  {
   "cell_type": "code",
   "execution_count": null,
   "metadata": {
    "id": "DOZ1WCJ1zkYi"
   },
   "outputs": [],
   "source": []
  },
  {
   "cell_type": "markdown",
   "metadata": {
    "id": "0QsBXxRBzkYi"
   },
   "source": [
    "### **Using Dictionary**"
   ]
  },
  {
   "cell_type": "code",
   "execution_count": 22,
   "metadata": {
    "colab": {
     "base_uri": "https://localhost:8080/"
    },
    "executionInfo": {
     "elapsed": 962,
     "status": "ok",
     "timestamp": 1615274863189,
     "user": {
      "displayName": "Orion Cloud",
      "photoUrl": "",
      "userId": "13399699001942214669"
     },
     "user_tz": -180
    },
    "id": "5mWqXhtMzkYi",
    "outputId": "ec4a5b4d-e124-4f5c-faed-ef12a687b4b5"
   },
   "outputs": [
    {
     "data": {
      "text/plain": [
       "{'a': 10, 'b': 20, 'c': 30}"
      ]
     },
     "execution_count": 22,
     "metadata": {},
     "output_type": "execute_result"
    }
   ],
   "source": [
    "d"
   ]
  },
  {
   "cell_type": "code",
   "execution_count": 23,
   "metadata": {
    "colab": {
     "base_uri": "https://localhost:8080/"
    },
    "executionInfo": {
     "elapsed": 911,
     "status": "ok",
     "timestamp": 1615274871501,
     "user": {
      "displayName": "Orion Cloud",
      "photoUrl": "",
      "userId": "13399699001942214669"
     },
     "user_tz": -180
    },
    "id": "n3caOkFWzkYj",
    "outputId": "cf55b34e-859d-4921-9705-cc0cb9371822"
   },
   "outputs": [
    {
     "data": {
      "text/plain": [
       "a    10\n",
       "b    20\n",
       "c    30\n",
       "dtype: int64"
      ]
     },
     "execution_count": 23,
     "metadata": {},
     "output_type": "execute_result"
    }
   ],
   "source": [
    "pd.Series(d)"
   ]
  },
  {
   "cell_type": "code",
   "execution_count": 24,
   "metadata": {
    "colab": {
     "base_uri": "https://localhost:8080/"
    },
    "executionInfo": {
     "elapsed": 1050,
     "status": "ok",
     "timestamp": 1615274896703,
     "user": {
      "displayName": "Orion Cloud",
      "photoUrl": "",
      "userId": "13399699001942214669"
     },
     "user_tz": -180
    },
    "id": "3On6KX69zkYj",
    "outputId": "bde5305b-60dd-4558-b8a4-a578e1a2044b"
   },
   "outputs": [
    {
     "data": {
      "text/plain": [
       "w     NaN\n",
       "c    30.0\n",
       "d     NaN\n",
       "dtype: float64"
      ]
     },
     "execution_count": 24,
     "metadata": {},
     "output_type": "execute_result"
    }
   ],
   "source": [
    "pd.Series(d,[\"w\",\"c\",\"d\"])"
   ]
  },
  {
   "cell_type": "markdown",
   "metadata": {
    "id": "yaskgMylzkYj"
   },
   "source": [
    "### Data in a Series\n",
    "\n",
    "A pandas Series can hold a variety of object types:"
   ]
  },
  {
   "cell_type": "code",
   "execution_count": 25,
   "metadata": {
    "colab": {
     "base_uri": "https://localhost:8080/"
    },
    "executionInfo": {
     "elapsed": 1335,
     "status": "ok",
     "timestamp": 1615275003238,
     "user": {
      "displayName": "Orion Cloud",
      "photoUrl": "",
      "userId": "13399699001942214669"
     },
     "user_tz": -180
    },
    "id": "9qYCMf2uzkYj",
    "outputId": "65fbfca3-0c88-483a-d5a4-3e0c745af35e"
   },
   "outputs": [
    {
     "data": {
      "text/plain": [
       "['aron', 'baron', 'charon']"
      ]
     },
     "execution_count": 25,
     "metadata": {},
     "output_type": "execute_result"
    }
   ],
   "source": [
    "labels"
   ]
  },
  {
   "cell_type": "code",
   "execution_count": 27,
   "metadata": {
    "colab": {
     "base_uri": "https://localhost:8080/"
    },
    "executionInfo": {
     "elapsed": 1397,
     "status": "ok",
     "timestamp": 1615275015922,
     "user": {
      "displayName": "Orion Cloud",
      "photoUrl": "",
      "userId": "13399699001942214669"
     },
     "user_tz": -180
    },
    "id": "klDUkIFczkYj",
    "outputId": "bda27714-9c6a-4b62-ac69-fada7aa6c104"
   },
   "outputs": [
    {
     "data": {
      "text/plain": [
       "0      aron\n",
       "1     baron\n",
       "2    charon\n",
       "dtype: object"
      ]
     },
     "execution_count": 27,
     "metadata": {},
     "output_type": "execute_result"
    }
   ],
   "source": [
    "pd.Series(data = labels)"
   ]
  },
  {
   "cell_type": "code",
   "execution_count": 28,
   "metadata": {
    "colab": {
     "base_uri": "https://localhost:8080/"
    },
    "executionInfo": {
     "elapsed": 1045,
     "status": "ok",
     "timestamp": 1615275030137,
     "user": {
      "displayName": "Orion Cloud",
      "photoUrl": "",
      "userId": "13399699001942214669"
     },
     "user_tz": -180
    },
    "id": "mcq5m4mOzkYk",
    "outputId": "deea4801-cc1f-4924-c558-3733d5d9f2f6"
   },
   "outputs": [
    {
     "data": {
      "text/plain": [
       "0      <built-in function sum>\n",
       "1    <built-in function print>\n",
       "2      <built-in function len>\n",
       "dtype: object"
      ]
     },
     "execution_count": 28,
     "metadata": {},
     "output_type": "execute_result"
    }
   ],
   "source": [
    "pd.Series([sum,print,len])"
   ]
  },
  {
   "cell_type": "code",
   "execution_count": 29,
   "metadata": {
    "id": "lA2EpnO_zkYk"
   },
   "outputs": [],
   "source": [
    "mix_data = [1,\"cat\",True]"
   ]
  },
  {
   "cell_type": "code",
   "execution_count": 30,
   "metadata": {
    "colab": {
     "base_uri": "https://localhost:8080/"
    },
    "executionInfo": {
     "elapsed": 885,
     "status": "ok",
     "timestamp": 1615275242236,
     "user": {
      "displayName": "Orion Cloud",
      "photoUrl": "",
      "userId": "13399699001942214669"
     },
     "user_tz": -180
    },
    "id": "IFFHeuOS5bXu",
    "outputId": "cd0f9890-e75b-4d09-8508-8c6c29a8a769"
   },
   "outputs": [
    {
     "data": {
      "text/plain": [
       "array(['1', 'cat', 'True'], dtype='<U11')"
      ]
     },
     "execution_count": 30,
     "metadata": {},
     "output_type": "execute_result"
    }
   ],
   "source": [
    "x = np.array(mix_data)\n",
    "x "
   ]
  },
  {
   "cell_type": "code",
   "execution_count": 31,
   "metadata": {
    "colab": {
     "base_uri": "https://localhost:8080/"
    },
    "executionInfo": {
     "elapsed": 961,
     "status": "ok",
     "timestamp": 1615275244220,
     "user": {
      "displayName": "Orion Cloud",
      "photoUrl": "",
      "userId": "13399699001942214669"
     },
     "user_tz": -180
    },
    "id": "lvOjP-6GzkYk",
    "outputId": "e755150f-f24a-4115-c98d-550d23715e15"
   },
   "outputs": [
    {
     "data": {
      "text/plain": [
       "0       1\n",
       "1     cat\n",
       "2    True\n",
       "dtype: object"
      ]
     },
     "execution_count": 31,
     "metadata": {},
     "output_type": "execute_result"
    }
   ],
   "source": [
    "y = pd.Series(mix_data)\n",
    "y"
   ]
  },
  {
   "cell_type": "code",
   "execution_count": null,
   "metadata": {
    "colab": {
     "base_uri": "https://localhost:8080/"
    },
    "executionInfo": {
     "elapsed": 991,
     "status": "ok",
     "timestamp": 1615275343929,
     "user": {
      "displayName": "Orion Cloud",
      "photoUrl": "",
      "userId": "13399699001942214669"
     },
     "user_tz": -180
    },
    "id": "pV7iLWG_5nxS",
    "outputId": "a2d6f278-3855-4290-c9fc-d5bd79d3a0be"
   },
   "outputs": [
    {
     "name": "stdout",
     "output_type": "stream",
     "text": [
      "<class 'numpy.str_'>\n",
      "<class 'int'>\n"
     ]
    }
   ],
   "source": [
    "print(type(x[0]))\n",
    "print(type(y[0]))"
   ]
  },
  {
   "cell_type": "markdown",
   "metadata": {
    "id": "pmITxZh-zkYk"
   },
   "source": [
    "## Sorting Index | Sorting Values | Check Data if it is in the pd.Series\n",
    "\n",
    "### [`.sort_index`](http://localhost:8888/notebooks/pythonic/DAwPythonSessions/w3resource-pandas-series-sort_index.ipynb) | [`.sort_values`](http://localhost:8888/notebooks/pythonic/DAwPythonSessions/w3resource-pandas-series-sort_values.ipynb) | [`.isin`](http://localhost:8888/notebooks/pythonic/DAwPythonSessions/w3resource-pandas-series-isin.ipynb)"
   ]
  },
  {
   "cell_type": "markdown",
   "metadata": {
    "id": "LwhmFzqPzkYk"
   },
   "source": [
    "***\n",
    "\n"
   ]
  },
  {
   "cell_type": "code",
   "execution_count": 32,
   "metadata": {
    "id": "bIyUCVAn60j6"
   },
   "outputs": [],
   "source": [
    "values = np.random.randint(1,20,9)\n",
    "labels = [i for i in \"clarusway\"]"
   ]
  },
  {
   "cell_type": "code",
   "execution_count": 33,
   "metadata": {
    "colab": {
     "base_uri": "https://localhost:8080/"
    },
    "executionInfo": {
     "elapsed": 628,
     "status": "ok",
     "timestamp": 1615275878248,
     "user": {
      "displayName": "Orion Cloud",
      "photoUrl": "",
      "userId": "13399699001942214669"
     },
     "user_tz": -180
    },
    "id": "NY3Df1QF7fQG",
    "outputId": "5adce349-c35e-43d8-9575-3bb0094b3f1f"
   },
   "outputs": [
    {
     "data": {
      "text/plain": [
       "c     6\n",
       "l    14\n",
       "a    12\n",
       "r    19\n",
       "u    14\n",
       "s    10\n",
       "w    14\n",
       "a    13\n",
       "y    15\n",
       "dtype: int32"
      ]
     },
     "execution_count": 33,
     "metadata": {},
     "output_type": "execute_result"
    }
   ],
   "source": [
    "oser = pd.Series(data=values,index=labels)\n",
    "oser"
   ]
  },
  {
   "cell_type": "code",
   "execution_count": 34,
   "metadata": {
    "colab": {
     "base_uri": "https://localhost:8080/"
    },
    "executionInfo": {
     "elapsed": 544,
     "status": "ok",
     "timestamp": 1615275882442,
     "user": {
      "displayName": "Orion Cloud",
      "photoUrl": "",
      "userId": "13399699001942214669"
     },
     "user_tz": -180
    },
    "id": "L7nsHQPu7_vC",
    "outputId": "e7730d00-dd25-4941-9e12-57c2062bebbb"
   },
   "outputs": [
    {
     "data": {
      "text/plain": [
       "a    12\n",
       "a    13\n",
       "c     6\n",
       "l    14\n",
       "r    19\n",
       "s    10\n",
       "u    14\n",
       "w    14\n",
       "y    15\n",
       "dtype: int32"
      ]
     },
     "execution_count": 34,
     "metadata": {},
     "output_type": "execute_result"
    }
   ],
   "source": [
    "oser.sort_index()"
   ]
  },
  {
   "cell_type": "code",
   "execution_count": 35,
   "metadata": {
    "colab": {
     "base_uri": "https://localhost:8080/"
    },
    "executionInfo": {
     "elapsed": 939,
     "status": "ok",
     "timestamp": 1615275885179,
     "user": {
      "displayName": "Orion Cloud",
      "photoUrl": "",
      "userId": "13399699001942214669"
     },
     "user_tz": -180
    },
    "id": "QQzdjkgZ8Qik",
    "outputId": "e4565cab-b62a-4702-f2d7-0f0fb54e412a"
   },
   "outputs": [
    {
     "data": {
      "text/plain": [
       "c     6\n",
       "s    10\n",
       "a    12\n",
       "a    13\n",
       "l    14\n",
       "u    14\n",
       "w    14\n",
       "y    15\n",
       "r    19\n",
       "dtype: int32"
      ]
     },
     "execution_count": 35,
     "metadata": {},
     "output_type": "execute_result"
    }
   ],
   "source": [
    "oser.sort_values()"
   ]
  },
  {
   "cell_type": "code",
   "execution_count": 37,
   "metadata": {
    "colab": {
     "base_uri": "https://localhost:8080/"
    },
    "executionInfo": {
     "elapsed": 1063,
     "status": "ok",
     "timestamp": 1615276246360,
     "user": {
      "displayName": "Orion Cloud",
      "photoUrl": "",
      "userId": "13399699001942214669"
     },
     "user_tz": -180
    },
    "id": "GRPtJatp8m5S",
    "outputId": "ee179afe-83d7-48fd-dc1e-63cf7c6ffa59"
   },
   "outputs": [
    {
     "data": {
      "text/plain": [
       "c     True\n",
       "l    False\n",
       "a    False\n",
       "r    False\n",
       "u    False\n",
       "s    False\n",
       "w    False\n",
       "a    False\n",
       "y    False\n",
       "dtype: bool"
      ]
     },
     "execution_count": 37,
     "metadata": {},
     "output_type": "execute_result"
    }
   ],
   "source": [
    "oser.isin([6])"
   ]
  },
  {
   "cell_type": "code",
   "execution_count": 36,
   "metadata": {},
   "outputs": [
    {
     "data": {
      "text/plain": [
       "c    6\n",
       "dtype: int32"
      ]
     },
     "execution_count": 36,
     "metadata": {},
     "output_type": "execute_result"
    }
   ],
   "source": [
    "oser[oser.isin([6])]"
   ]
  },
  {
   "cell_type": "code",
   "execution_count": null,
   "metadata": {
    "id": "fpNtJLYI-IxK"
   },
   "outputs": [],
   "source": [
    "# How can I use .isin() on labels?"
   ]
  },
  {
   "cell_type": "code",
   "execution_count": null,
   "metadata": {
    "cellView": "form",
    "id": "tBwtwFtJ9484"
   },
   "outputs": [],
   "source": [
    "#@title\n",
    "oser.index.isin([\"a\"])"
   ]
  },
  {
   "cell_type": "markdown",
   "metadata": {
    "id": "Srit7GmHzkYk"
   },
   "source": [
    "## Indexing Pandas Series\n",
    "\n",
    "The key to using a Series is understanding its index. Pandas makes use of these index names or numbers by allowing for fast look up of information.\n",
    "\n",
    "Let's see some examples of how to grab information from a Series. Let us create two sereis, ser1 and ser2:"
   ]
  },
  {
   "cell_type": "code",
   "execution_count": 38,
   "metadata": {
    "id": "CG--Wu3azkYl"
   },
   "outputs": [],
   "source": [
    "ser1 = pd.Series([1,2,3,4,6],index = ['USA', 'Germany','USSR', 'Japan','Turkey'])                                   "
   ]
  },
  {
   "cell_type": "code",
   "execution_count": 39,
   "metadata": {
    "colab": {
     "base_uri": "https://localhost:8080/"
    },
    "executionInfo": {
     "elapsed": 684,
     "status": "ok",
     "timestamp": 1615276426904,
     "user": {
      "displayName": "Orion Cloud",
      "photoUrl": "",
      "userId": "13399699001942214669"
     },
     "user_tz": -180
    },
    "id": "2XnnLCIAzkYl",
    "outputId": "95070eb7-3157-4d47-fdde-539b4f861908"
   },
   "outputs": [
    {
     "data": {
      "text/plain": [
       "USA        1\n",
       "Germany    2\n",
       "USSR       3\n",
       "Japan      4\n",
       "Turkey     6\n",
       "dtype: int64"
      ]
     },
     "execution_count": 39,
     "metadata": {},
     "output_type": "execute_result"
    }
   ],
   "source": [
    "ser1"
   ]
  },
  {
   "cell_type": "code",
   "execution_count": 40,
   "metadata": {
    "colab": {
     "base_uri": "https://localhost:8080/"
    },
    "executionInfo": {
     "elapsed": 1666,
     "status": "ok",
     "timestamp": 1615276432072,
     "user": {
      "displayName": "Orion Cloud",
      "photoUrl": "",
      "userId": "13399699001942214669"
     },
     "user_tz": -180
    },
    "id": "mLsY8NHTzkYl",
    "outputId": "e7cdd622-a05e-4b3e-8eb8-4218b6fcab86"
   },
   "outputs": [
    {
     "data": {
      "text/plain": [
       "1"
      ]
     },
     "execution_count": 40,
     "metadata": {},
     "output_type": "execute_result"
    }
   ],
   "source": [
    "ser1[0]"
   ]
  },
  {
   "cell_type": "code",
   "execution_count": 41,
   "metadata": {
    "colab": {
     "base_uri": "https://localhost:8080/"
    },
    "executionInfo": {
     "elapsed": 563,
     "status": "ok",
     "timestamp": 1615276434415,
     "user": {
      "displayName": "Orion Cloud",
      "photoUrl": "",
      "userId": "13399699001942214669"
     },
     "user_tz": -180
    },
    "id": "NUa2P-YyzkYl",
    "outputId": "9d60c6d8-4267-4974-85e2-66646eafcd89"
   },
   "outputs": [
    {
     "data": {
      "text/plain": [
       "1"
      ]
     },
     "execution_count": 41,
     "metadata": {},
     "output_type": "execute_result"
    }
   ],
   "source": [
    "ser1[\"USA\"]"
   ]
  },
  {
   "cell_type": "code",
   "execution_count": 42,
   "metadata": {
    "id": "HKRRf4bZzkYl"
   },
   "outputs": [],
   "source": [
    "ser2 = pd.Series([1,2,5,4],index = ['USA', 'Germany','Italy', 'Japan'])                                   "
   ]
  },
  {
   "cell_type": "code",
   "execution_count": 43,
   "metadata": {
    "colab": {
     "base_uri": "https://localhost:8080/"
    },
    "executionInfo": {
     "elapsed": 2025,
     "status": "ok",
     "timestamp": 1615276443187,
     "user": {
      "displayName": "Orion Cloud",
      "photoUrl": "",
      "userId": "13399699001942214669"
     },
     "user_tz": -180
    },
    "id": "aslWoTcczkYl",
    "outputId": "f5be1634-9738-44f0-cae5-61656b493b6b"
   },
   "outputs": [
    {
     "data": {
      "text/plain": [
       "USA        1\n",
       "Germany    2\n",
       "Italy      5\n",
       "Japan      4\n",
       "dtype: int64"
      ]
     },
     "execution_count": 43,
     "metadata": {},
     "output_type": "execute_result"
    }
   ],
   "source": [
    "ser2"
   ]
  },
  {
   "cell_type": "code",
   "execution_count": 45,
   "metadata": {},
   "outputs": [
    {
     "data": {
      "text/plain": [
       "USA        1\n",
       "Germany    2\n",
       "USSR       3\n",
       "Japan      4\n",
       "Turkey     6\n",
       "dtype: int64"
      ]
     },
     "execution_count": 45,
     "metadata": {},
     "output_type": "execute_result"
    }
   ],
   "source": [
    "ser1"
   ]
  },
  {
   "cell_type": "code",
   "execution_count": 44,
   "metadata": {
    "colab": {
     "base_uri": "https://localhost:8080/"
    },
    "executionInfo": {
     "elapsed": 947,
     "status": "ok",
     "timestamp": 1615276452940,
     "user": {
      "displayName": "Orion Cloud",
      "photoUrl": "",
      "userId": "13399699001942214669"
     },
     "user_tz": -180
    },
    "id": "E72-WGTPzkYm",
    "outputId": "dd71e71e-943d-4d3e-b321-dfc028af1219"
   },
   "outputs": [
    {
     "data": {
      "text/plain": [
       "Germany    4.0\n",
       "Italy      NaN\n",
       "Japan      8.0\n",
       "Turkey     NaN\n",
       "USA        2.0\n",
       "USSR       NaN\n",
       "dtype: float64"
      ]
     },
     "execution_count": 44,
     "metadata": {},
     "output_type": "execute_result"
    }
   ],
   "source": [
    "ser1 + ser2"
   ]
  },
  {
   "cell_type": "code",
   "execution_count": null,
   "metadata": {
    "colab": {
     "base_uri": "https://localhost:8080/"
    },
    "executionInfo": {
     "elapsed": 920,
     "status": "ok",
     "timestamp": 1615276531683,
     "user": {
      "displayName": "Orion Cloud",
      "photoUrl": "",
      "userId": "13399699001942214669"
     },
     "user_tz": -180
    },
    "id": "nAZ9UhK--vgW",
    "outputId": "e5a28715-098d-41b9-c7f3-29db026abf88"
   },
   "outputs": [
    {
     "data": {
      "text/plain": [
       "Germany    4.0\n",
       "Italy      5.0\n",
       "Japan      8.0\n",
       "Turkey     6.0\n",
       "USA        2.0\n",
       "USSR       3.0\n",
       "dtype: float64"
      ]
     },
     "execution_count": 78,
     "metadata": {
      "tags": []
     },
     "output_type": "execute_result"
    }
   ],
   "source": [
    "ser1.add(ser2,fill_value=0)"
   ]
  },
  {
   "cell_type": "code",
   "execution_count": null,
   "metadata": {
    "id": "256KGrFN-_3U"
   },
   "outputs": [],
   "source": [
    "# Find the function that we use for subtraction? "
   ]
  },
  {
   "cell_type": "markdown",
   "metadata": {
    "id": "EfbY389nzkYm"
   },
   "source": [
    "### Indexing Examples"
   ]
  },
  {
   "cell_type": "code",
   "execution_count": 46,
   "metadata": {
    "colab": {
     "base_uri": "https://localhost:8080/"
    },
    "executionInfo": {
     "elapsed": 912,
     "status": "ok",
     "timestamp": 1615276664559,
     "user": {
      "displayName": "Orion Cloud",
      "photoUrl": "",
      "userId": "13399699001942214669"
     },
     "user_tz": -180
    },
    "id": "s46mZxgwzkYm",
    "outputId": "e1541549-368c-45b5-94be-2e6ac0a1436c"
   },
   "outputs": [
    {
     "data": {
      "text/plain": [
       "0      1\n",
       "1      2\n",
       "2     33\n",
       "3    444\n",
       "4     75\n",
       "dtype: int32"
      ]
     },
     "execution_count": 46,
     "metadata": {},
     "output_type": "execute_result"
    }
   ],
   "source": [
    "a = np.array([1,2,33,444,75])\n",
    "panser = pd.Series(a)\n",
    "panser"
   ]
  },
  {
   "cell_type": "code",
   "execution_count": 47,
   "metadata": {
    "colab": {
     "base_uri": "https://localhost:8080/"
    },
    "executionInfo": {
     "elapsed": 1312,
     "status": "ok",
     "timestamp": 1615276668980,
     "user": {
      "displayName": "Orion Cloud",
      "photoUrl": "",
      "userId": "13399699001942214669"
     },
     "user_tz": -180
    },
    "id": "5ywwmX-ozkYm",
    "outputId": "0b2cb857-23d9-4c66-dcad-5df488fdbf7d"
   },
   "outputs": [
    {
     "data": {
      "text/plain": [
       "1"
      ]
     },
     "execution_count": 47,
     "metadata": {},
     "output_type": "execute_result"
    }
   ],
   "source": [
    "panser[0]"
   ]
  },
  {
   "cell_type": "code",
   "execution_count": 48,
   "metadata": {
    "colab": {
     "base_uri": "https://localhost:8080/"
    },
    "executionInfo": {
     "elapsed": 1296,
     "status": "ok",
     "timestamp": 1615276673354,
     "user": {
      "displayName": "Orion Cloud",
      "photoUrl": "",
      "userId": "13399699001942214669"
     },
     "user_tz": -180
    },
    "id": "I-DC6F_BzkYm",
    "outputId": "b3544e5b-de9e-466f-e221-202fa386abc3"
   },
   "outputs": [
    {
     "data": {
      "text/plain": [
       "0     1\n",
       "1     2\n",
       "2    33\n",
       "dtype: int32"
      ]
     },
     "execution_count": 48,
     "metadata": {},
     "output_type": "execute_result"
    }
   ],
   "source": [
    "panser[0:3]"
   ]
  },
  {
   "cell_type": "markdown",
   "metadata": {
    "id": "Y1rUwxinzkYn"
   },
   "source": [
    "### pandas_series[index] | pandas_series[[indices, indices...]]"
   ]
  },
  {
   "cell_type": "code",
   "execution_count": 49,
   "metadata": {
    "colab": {
     "base_uri": "https://localhost:8080/"
    },
    "executionInfo": {
     "elapsed": 2166,
     "status": "ok",
     "timestamp": 1615278465572,
     "user": {
      "displayName": "Orion Cloud",
      "photoUrl": "",
      "userId": "13399699001942214669"
     },
     "user_tz": -180
    },
    "id": "bwioEoi7Dt1Z",
    "outputId": "f08e117d-47ed-4a24-ee29-94d030de2904"
   },
   "outputs": [
    {
     "name": "stdout",
     "output_type": "stream",
     "text": [
      "['ali ihsan' 'osman ali' 'fatih' 'müslüm' 'ismail' 'sarah']\n"
     ]
    }
   ],
   "source": [
    "oindex = np.random.choice([\"sarah\",\"jack\", \"müslüm\", \"ismail\", \n",
    "             \"gizem\",\"ali ihsan\",\"ertuğrul\",\"niyazi\",\n",
    "             \"osman ali\",\"baki\",\"kasım\",\"kübra\",\"fatih\",\n",
    "             \"said\",\"taner\",\"aslı\",\"sami\",\"ibrahim\"],size =6, replace=False)\n",
    "\n",
    "print(oindex)"
   ]
  },
  {
   "cell_type": "code",
   "execution_count": 50,
   "metadata": {},
   "outputs": [],
   "source": [
    "age = [20,25,27,30,21,29]"
   ]
  },
  {
   "cell_type": "code",
   "execution_count": 51,
   "metadata": {
    "colab": {
     "base_uri": "https://localhost:8080/"
    },
    "executionInfo": {
     "elapsed": 1242,
     "status": "ok",
     "timestamp": 1615278484596,
     "user": {
      "displayName": "Orion Cloud",
      "photoUrl": "",
      "userId": "13399699001942214669"
     },
     "user_tz": -180
    },
    "id": "tx30wJjGzkYn",
    "outputId": "cc0c2d8b-dc1a-4978-e1e8-32ba3a705e42"
   },
   "outputs": [
    {
     "data": {
      "text/plain": [
       "ali ihsan    20\n",
       "osman ali    25\n",
       "fatih        27\n",
       "müslüm       30\n",
       "ismail       21\n",
       "sarah        29\n",
       "dtype: int64"
      ]
     },
     "execution_count": 51,
     "metadata": {},
     "output_type": "execute_result"
    }
   ],
   "source": [
    "panser = pd.Series(data = age, index = oindex)\n",
    "\n",
    "panser"
   ]
  },
  {
   "cell_type": "code",
   "execution_count": 52,
   "metadata": {
    "colab": {
     "base_uri": "https://localhost:8080/"
    },
    "executionInfo": {
     "elapsed": 1201,
     "status": "ok",
     "timestamp": 1615278491688,
     "user": {
      "displayName": "Orion Cloud",
      "photoUrl": "",
      "userId": "13399699001942214669"
     },
     "user_tz": -180
    },
    "id": "c_snQIhezkYo",
    "outputId": "14480b56-8b86-4a57-e005-dead335c07ae"
   },
   "outputs": [
    {
     "data": {
      "text/plain": [
       "20"
      ]
     },
     "execution_count": 52,
     "metadata": {},
     "output_type": "execute_result"
    }
   ],
   "source": [
    "panser[0]"
   ]
  },
  {
   "cell_type": "code",
   "execution_count": 53,
   "metadata": {
    "colab": {
     "base_uri": "https://localhost:8080/"
    },
    "executionInfo": {
     "elapsed": 1010,
     "status": "ok",
     "timestamp": 1615278596215,
     "user": {
      "displayName": "Orion Cloud",
      "photoUrl": "",
      "userId": "13399699001942214669"
     },
     "user_tz": -180
    },
    "id": "HNiXxIX9zkYo",
    "outputId": "902a719d-f018-4f00-e4c8-741bd9404fc2"
   },
   "outputs": [
    {
     "data": {
      "text/plain": [
       "20"
      ]
     },
     "execution_count": 53,
     "metadata": {},
     "output_type": "execute_result"
    }
   ],
   "source": [
    "panser[\"ali ihsan\"]"
   ]
  },
  {
   "cell_type": "code",
   "execution_count": 54,
   "metadata": {
    "colab": {
     "base_uri": "https://localhost:8080/"
    },
    "executionInfo": {
     "elapsed": 938,
     "status": "ok",
     "timestamp": 1615278633042,
     "user": {
      "displayName": "Orion Cloud",
      "photoUrl": "",
      "userId": "13399699001942214669"
     },
     "user_tz": -180
    },
    "id": "Tfdd-WjazkYo",
    "outputId": "0cf25f48-b235-4488-f572-307ccdf4e991"
   },
   "outputs": [
    {
     "data": {
      "text/plain": [
       "müslüm    30\n",
       "ismail    21\n",
       "dtype: int64"
      ]
     },
     "execution_count": 54,
     "metadata": {},
     "output_type": "execute_result"
    }
   ],
   "source": [
    "panser[[\"müslüm\",\"ismail\"]]"
   ]
  },
  {
   "cell_type": "code",
   "execution_count": 55,
   "metadata": {
    "colab": {
     "base_uri": "https://localhost:8080/"
    },
    "executionInfo": {
     "elapsed": 841,
     "status": "ok",
     "timestamp": 1615278645275,
     "user": {
      "displayName": "Orion Cloud",
      "photoUrl": "",
      "userId": "13399699001942214669"
     },
     "user_tz": -180
    },
    "id": "Bt6Suul_zkYp",
    "outputId": "c0547334-09c2-42a6-ff5a-78f8c169f2a0"
   },
   "outputs": [
    {
     "data": {
      "text/plain": [
       "müslüm    30\n",
       "ismail    21\n",
       "dtype: int64"
      ]
     },
     "execution_count": 55,
     "metadata": {},
     "output_type": "execute_result"
    }
   ],
   "source": [
    "panser[\"müslüm\":\"ismail\"]"
   ]
  },
  {
   "cell_type": "code",
   "execution_count": 56,
   "metadata": {
    "colab": {
     "base_uri": "https://localhost:8080/"
    },
    "executionInfo": {
     "elapsed": 878,
     "status": "ok",
     "timestamp": 1615278671434,
     "user": {
      "displayName": "Orion Cloud",
      "photoUrl": "",
      "userId": "13399699001942214669"
     },
     "user_tz": -180
    },
    "id": "sHnLDh8KzkYp",
    "outputId": "1631023c-de0f-48f0-d721-76286b887e51"
   },
   "outputs": [
    {
     "data": {
      "text/plain": [
       "müslüm    30\n",
       "ismail    21\n",
       "dtype: int64"
      ]
     },
     "execution_count": 56,
     "metadata": {},
     "output_type": "execute_result"
    }
   ],
   "source": [
    "panser[3:5]"
   ]
  },
  {
   "cell_type": "code",
   "execution_count": 57,
   "metadata": {
    "colab": {
     "base_uri": "https://localhost:8080/"
    },
    "executionInfo": {
     "elapsed": 894,
     "status": "ok",
     "timestamp": 1615278698127,
     "user": {
      "displayName": "Orion Cloud",
      "photoUrl": "",
      "userId": "13399699001942214669"
     },
     "user_tz": -180
    },
    "id": "TvKLCIl1zkYq",
    "outputId": "f02a7290-d37b-4472-bf0e-15ac82ef018c"
   },
   "outputs": [
    {
     "data": {
      "text/plain": [
       "müslüm    30\n",
       "ismail    21\n",
       "dtype: int64"
      ]
     },
     "execution_count": 57,
     "metadata": {},
     "output_type": "execute_result"
    }
   ],
   "source": [
    "panser[[3,4]]"
   ]
  },
  {
   "cell_type": "markdown",
   "metadata": {
    "id": "Lla2Mg_LzkYq"
   },
   "source": [
    "### Several Selecting Attributes"
   ]
  },
  {
   "cell_type": "code",
   "execution_count": 58,
   "metadata": {
    "colab": {
     "base_uri": "https://localhost:8080/"
    },
    "executionInfo": {
     "elapsed": 1175,
     "status": "ok",
     "timestamp": 1615278704272,
     "user": {
      "displayName": "Orion Cloud",
      "photoUrl": "",
      "userId": "13399699001942214669"
     },
     "user_tz": -180
    },
    "id": "OHGa8FHazkYq",
    "outputId": "2f9da396-7c97-4c5f-9e12-1c8eda66118c"
   },
   "outputs": [
    {
     "data": {
      "text/plain": [
       "ali ihsan    20\n",
       "osman ali    25\n",
       "fatih        27\n",
       "müslüm       30\n",
       "ismail       21\n",
       "sarah        29\n",
       "dtype: int64"
      ]
     },
     "execution_count": 58,
     "metadata": {},
     "output_type": "execute_result"
    }
   ],
   "source": [
    "panser"
   ]
  },
  {
   "cell_type": "code",
   "execution_count": 59,
   "metadata": {
    "colab": {
     "base_uri": "https://localhost:8080/"
    },
    "executionInfo": {
     "elapsed": 832,
     "status": "ok",
     "timestamp": 1615278710401,
     "user": {
      "displayName": "Orion Cloud",
      "photoUrl": "",
      "userId": "13399699001942214669"
     },
     "user_tz": -180
    },
    "id": "e7Xypuy9zkYr",
    "outputId": "87ee7798-5034-4693-c0b8-e79dc6e763d4"
   },
   "outputs": [
    {
     "data": {
      "text/plain": [
       "Index(['ali ihsan', 'osman ali', 'fatih', 'müslüm', 'ismail', 'sarah'], dtype='object')"
      ]
     },
     "execution_count": 59,
     "metadata": {},
     "output_type": "execute_result"
    }
   ],
   "source": [
    "panser.index"
   ]
  },
  {
   "cell_type": "code",
   "execution_count": 60,
   "metadata": {
    "colab": {
     "base_uri": "https://localhost:8080/"
    },
    "executionInfo": {
     "elapsed": 811,
     "status": "ok",
     "timestamp": 1615278716834,
     "user": {
      "displayName": "Orion Cloud",
      "photoUrl": "",
      "userId": "13399699001942214669"
     },
     "user_tz": -180
    },
    "id": "-lT32Q6GzkYr",
    "outputId": "9940aaeb-5f23-4928-f9fb-88df835b4462"
   },
   "outputs": [
    {
     "data": {
      "text/plain": [
       "Index(['ali ihsan', 'osman ali', 'fatih', 'müslüm', 'ismail', 'sarah'], dtype='object')"
      ]
     },
     "execution_count": 60,
     "metadata": {},
     "output_type": "execute_result"
    }
   ],
   "source": [
    "panser.keys()"
   ]
  },
  {
   "cell_type": "code",
   "execution_count": 61,
   "metadata": {
    "colab": {
     "base_uri": "https://localhost:8080/"
    },
    "executionInfo": {
     "elapsed": 1050,
     "status": "ok",
     "timestamp": 1615278729130,
     "user": {
      "displayName": "Orion Cloud",
      "photoUrl": "",
      "userId": "13399699001942214669"
     },
     "user_tz": -180
    },
    "id": "m-9qYmKfzkYr",
    "outputId": "4e1aa961-5641-4fad-b181-d3c093451300"
   },
   "outputs": [
    {
     "data": {
      "text/plain": [
       "array([20, 25, 27, 30, 21, 29], dtype=int64)"
      ]
     },
     "execution_count": 61,
     "metadata": {},
     "output_type": "execute_result"
    }
   ],
   "source": [
    "panser.values"
   ]
  },
  {
   "cell_type": "code",
   "execution_count": 62,
   "metadata": {
    "colab": {
     "base_uri": "https://localhost:8080/"
    },
    "executionInfo": {
     "elapsed": 1013,
     "status": "ok",
     "timestamp": 1615278735088,
     "user": {
      "displayName": "Orion Cloud",
      "photoUrl": "",
      "userId": "13399699001942214669"
     },
     "user_tz": -180
    },
    "id": "wdLjRxa-zkYs",
    "outputId": "06b31412-4956-4c43-dd19-6bd104f23cda"
   },
   "outputs": [
    {
     "data": {
      "text/plain": [
       "<zip at 0x2393d13a740>"
      ]
     },
     "execution_count": 62,
     "metadata": {},
     "output_type": "execute_result"
    }
   ],
   "source": [
    "panser.items()"
   ]
  },
  {
   "cell_type": "code",
   "execution_count": 63,
   "metadata": {
    "colab": {
     "base_uri": "https://localhost:8080/"
    },
    "executionInfo": {
     "elapsed": 871,
     "status": "ok",
     "timestamp": 1615278745424,
     "user": {
      "displayName": "Orion Cloud",
      "photoUrl": "",
      "userId": "13399699001942214669"
     },
     "user_tz": -180
    },
    "id": "1f68q7mwzkYs",
    "outputId": "70471131-f30a-4918-9d89-7f8f6a8d8d01"
   },
   "outputs": [
    {
     "data": {
      "text/plain": [
       "[('ali ihsan', 20),\n",
       " ('osman ali', 25),\n",
       " ('fatih', 27),\n",
       " ('müslüm', 30),\n",
       " ('ismail', 21),\n",
       " ('sarah', 29)]"
      ]
     },
     "execution_count": 63,
     "metadata": {},
     "output_type": "execute_result"
    }
   ],
   "source": [
    "list(panser.items())"
   ]
  },
  {
   "cell_type": "code",
   "execution_count": 64,
   "metadata": {
    "colab": {
     "base_uri": "https://localhost:8080/"
    },
    "executionInfo": {
     "elapsed": 1764,
     "status": "ok",
     "timestamp": 1615278774551,
     "user": {
      "displayName": "Orion Cloud",
      "photoUrl": "",
      "userId": "13399699001942214669"
     },
     "user_tz": -180
    },
    "id": "OC2B21NWHeFM",
    "outputId": "f7572dab-7e9f-40a4-ce46-57aa61a670e3"
   },
   "outputs": [
    {
     "data": {
      "text/plain": [
       "{'ali ihsan': 20,\n",
       " 'osman ali': 25,\n",
       " 'fatih': 27,\n",
       " 'müslüm': 30,\n",
       " 'ismail': 21,\n",
       " 'sarah': 29}"
      ]
     },
     "execution_count": 64,
     "metadata": {},
     "output_type": "execute_result"
    }
   ],
   "source": [
    "dict(panser.items())"
   ]
  },
  {
   "cell_type": "code",
   "execution_count": 65,
   "metadata": {
    "colab": {
     "base_uri": "https://localhost:8080/"
    },
    "executionInfo": {
     "elapsed": 1370,
     "status": "ok",
     "timestamp": 1615278782681,
     "user": {
      "displayName": "Orion Cloud",
      "photoUrl": "",
      "userId": "13399699001942214669"
     },
     "user_tz": -180
    },
    "id": "PSymbUkKzkYs",
    "outputId": "46ddc189-1853-4fb6-9246-cb6eb1b16dcc"
   },
   "outputs": [
    {
     "name": "stdout",
     "output_type": "stream",
     "text": [
      "0 - ali ihsan - 20\n",
      "1 - osman ali - 25\n",
      "2 - fatih - 27\n",
      "3 - müslüm - 30\n",
      "4 - ismail - 21\n",
      "5 - sarah - 29\n"
     ]
    }
   ],
   "source": [
    "for index,(label,value) in enumerate(panser.items()):\n",
    "    print(index, \"-\",label,\"-\", value)\n",
    "    "
   ]
  },
  {
   "cell_type": "code",
   "execution_count": 66,
   "metadata": {
    "colab": {
     "base_uri": "https://localhost:8080/"
    },
    "executionInfo": {
     "elapsed": 1906,
     "status": "ok",
     "timestamp": 1615278790966,
     "user": {
      "displayName": "Orion Cloud",
      "photoUrl": "",
      "userId": "13399699001942214669"
     },
     "user_tz": -180
    },
    "id": "djR5JDDmzkYt",
    "outputId": "5420af65-78b7-413d-c21d-34ce77fc260f"
   },
   "outputs": [
    {
     "data": {
      "text/plain": [
       "ali ihsan    20\n",
       "osman ali    25\n",
       "fatih        27\n",
       "müslüm       30\n",
       "ismail       21\n",
       "sarah        29\n",
       "dtype: int64"
      ]
     },
     "execution_count": 66,
     "metadata": {},
     "output_type": "execute_result"
    }
   ],
   "source": [
    "panser"
   ]
  },
  {
   "cell_type": "code",
   "execution_count": 67,
   "metadata": {
    "colab": {
     "base_uri": "https://localhost:8080/"
    },
    "executionInfo": {
     "elapsed": 1555,
     "status": "ok",
     "timestamp": 1615278796677,
     "user": {
      "displayName": "Orion Cloud",
      "photoUrl": "",
      "userId": "13399699001942214669"
     },
     "user_tz": -180
    },
    "id": "1n6uRhJGzkYt",
    "outputId": "783245b1-27a4-4684-b7a9-257dbf1e1ec2"
   },
   "outputs": [
    {
     "data": {
      "text/plain": [
       "False"
      ]
     },
     "execution_count": 67,
     "metadata": {},
     "output_type": "execute_result"
    }
   ],
   "source": [
    "\"orion\" in panser"
   ]
  },
  {
   "cell_type": "code",
   "execution_count": 68,
   "metadata": {
    "colab": {
     "base_uri": "https://localhost:8080/"
    },
    "executionInfo": {
     "elapsed": 955,
     "status": "ok",
     "timestamp": 1615278804750,
     "user": {
      "displayName": "Orion Cloud",
      "photoUrl": "",
      "userId": "13399699001942214669"
     },
     "user_tz": -180
    },
    "id": "aEnS3vD7zkYt",
    "outputId": "b47ebc85-8471-4341-c983-5f7d59ccb57f"
   },
   "outputs": [
    {
     "data": {
      "text/plain": [
       "True"
      ]
     },
     "execution_count": 68,
     "metadata": {},
     "output_type": "execute_result"
    }
   ],
   "source": [
    "\"sarah\" in panser"
   ]
  },
  {
   "cell_type": "code",
   "execution_count": 69,
   "metadata": {
    "colab": {
     "base_uri": "https://localhost:8080/"
    },
    "executionInfo": {
     "elapsed": 1078,
     "status": "ok",
     "timestamp": 1615278812637,
     "user": {
      "displayName": "Orion Cloud",
      "photoUrl": "",
      "userId": "13399699001942214669"
     },
     "user_tz": -180
    },
    "id": "H3EGFUZSzkYu",
    "outputId": "bfdaa0a6-16b9-401c-f83f-03b36e4ebde7"
   },
   "outputs": [
    {
     "data": {
      "text/plain": [
       "False"
      ]
     },
     "execution_count": 69,
     "metadata": {},
     "output_type": "execute_result"
    }
   ],
   "source": [
    "121 in panser.values"
   ]
  },
  {
   "cell_type": "code",
   "execution_count": 70,
   "metadata": {
    "colab": {
     "base_uri": "https://localhost:8080/"
    },
    "executionInfo": {
     "elapsed": 521,
     "status": "ok",
     "timestamp": 1615278815480,
     "user": {
      "displayName": "Orion Cloud",
      "photoUrl": "",
      "userId": "13399699001942214669"
     },
     "user_tz": -180
    },
    "id": "xOCz65lHzkYu",
    "outputId": "e15f1f6e-1bc9-471b-a4fd-07ad2846ab55"
   },
   "outputs": [
    {
     "data": {
      "text/plain": [
       "True"
      ]
     },
     "execution_count": 70,
     "metadata": {},
     "output_type": "execute_result"
    }
   ],
   "source": [
    "20 in panser.values"
   ]
  },
  {
   "cell_type": "code",
   "execution_count": 71,
   "metadata": {
    "colab": {
     "base_uri": "https://localhost:8080/"
    },
    "executionInfo": {
     "elapsed": 812,
     "status": "ok",
     "timestamp": 1615278835894,
     "user": {
      "displayName": "Orion Cloud",
      "photoUrl": "",
      "userId": "13399699001942214669"
     },
     "user_tz": -180
    },
    "id": "N5lltp1gzkYu",
    "outputId": "5b1d206f-55aa-4105-d3eb-3ec4dd49e86a"
   },
   "outputs": [
    {
     "data": {
      "text/plain": [
       "29"
      ]
     },
     "execution_count": 71,
     "metadata": {},
     "output_type": "execute_result"
    }
   ],
   "source": [
    "panser[\"sarah\"]"
   ]
  },
  {
   "cell_type": "code",
   "execution_count": 72,
   "metadata": {
    "colab": {
     "base_uri": "https://localhost:8080/"
    },
    "executionInfo": {
     "elapsed": 1106,
     "status": "ok",
     "timestamp": 1615278851151,
     "user": {
      "displayName": "Orion Cloud",
      "photoUrl": "",
      "userId": "13399699001942214669"
     },
     "user_tz": -180
    },
    "id": "c3uNfwqkzkYv",
    "outputId": "7ebd00f3-ee34-473c-f768-c77ddb0046cd"
   },
   "outputs": [
    {
     "data": {
      "text/plain": [
       "ali ihsan    20\n",
       "osman ali    25\n",
       "fatih        27\n",
       "müslüm       30\n",
       "ismail       21\n",
       "sarah        18\n",
       "dtype: int64"
      ]
     },
     "execution_count": 72,
     "metadata": {},
     "output_type": "execute_result"
    }
   ],
   "source": [
    "panser[\"sarah\"] = 18\n",
    "    \n",
    "panser"
   ]
  },
  {
   "cell_type": "code",
   "execution_count": 73,
   "metadata": {
    "colab": {
     "base_uri": "https://localhost:8080/"
    },
    "executionInfo": {
     "elapsed": 970,
     "status": "ok",
     "timestamp": 1615278899432,
     "user": {
      "displayName": "Orion Cloud",
      "photoUrl": "",
      "userId": "13399699001942214669"
     },
     "user_tz": -180
    },
    "id": "U_tSMBVNzkYv",
    "outputId": "7d72ca74-ad5b-42f5-c888-f0ca1224412e"
   },
   "outputs": [
    {
     "data": {
      "text/plain": [
       "ali ihsan    False\n",
       "osman ali    False\n",
       "fatih         True\n",
       "müslüm        True\n",
       "ismail       False\n",
       "sarah        False\n",
       "dtype: bool"
      ]
     },
     "execution_count": 73,
     "metadata": {},
     "output_type": "execute_result"
    }
   ],
   "source": [
    "panser > 25 # to find y generation"
   ]
  },
  {
   "cell_type": "code",
   "execution_count": 74,
   "metadata": {
    "colab": {
     "base_uri": "https://localhost:8080/"
    },
    "executionInfo": {
     "elapsed": 826,
     "status": "ok",
     "timestamp": 1615278960336,
     "user": {
      "displayName": "Orion Cloud",
      "photoUrl": "",
      "userId": "13399699001942214669"
     },
     "user_tz": -180
    },
    "id": "GPliskKMzkYw",
    "outputId": "7b303662-8a2c-4f30-8eb3-172f6d7c966a"
   },
   "outputs": [
    {
     "data": {
      "text/plain": [
       "fatih     27\n",
       "müslüm    30\n",
       "dtype: int64"
      ]
     },
     "execution_count": 74,
     "metadata": {},
     "output_type": "execute_result"
    }
   ],
   "source": [
    "panser[panser > 25]"
   ]
  },
  {
   "cell_type": "code",
   "execution_count": 76,
   "metadata": {
    "id": "yF1dlkjczkYw"
   },
   "outputs": [],
   "source": [
    "panser.drop([\"fatih\", \"müslüm\"],inplace = True)"
   ]
  },
  {
   "cell_type": "code",
   "execution_count": 77,
   "metadata": {
    "colab": {
     "base_uri": "https://localhost:8080/"
    },
    "executionInfo": {
     "elapsed": 1012,
     "status": "ok",
     "timestamp": 1615279024186,
     "user": {
      "displayName": "Orion Cloud",
      "photoUrl": "",
      "userId": "13399699001942214669"
     },
     "user_tz": -180
    },
    "id": "AXB8MyrezkYw",
    "outputId": "d5bae3cc-8f9a-4a46-b845-39ce41f2e1a3"
   },
   "outputs": [
    {
     "data": {
      "text/plain": [
       "ali ihsan    20\n",
       "osman ali    25\n",
       "ismail       21\n",
       "sarah        18\n",
       "dtype: int64"
      ]
     },
     "execution_count": 77,
     "metadata": {},
     "output_type": "execute_result"
    }
   ],
   "source": [
    "panser"
   ]
  },
  {
   "cell_type": "markdown",
   "metadata": {
    "id": "n5iZLDTczkYx"
   },
   "source": [
    "# The End of the Session - 3"
   ]
  },
  {
   "cell_type": "markdown",
   "metadata": {
    "id": "E1cpmTs7zkYx"
   },
   "source": [
    "___\n",
    "\n",
    "\n",
    "<p style=\"text-align: center;\"><img src=\"https://docs.google.com/uc?id=1lY0Uj5R04yMY3-ZppPWxqCr5pvBLYPnV\" class=\"img-fluid\" alt=\"Rossum\"></p>\n",
    "\n",
    "___"
   ]
  }
 ],
 "metadata": {
  "colab": {
   "collapsed_sections": [
    "Lla2Mg_LzkYq"
   ],
   "name": "LAB-Pandas-Series.ipynb",
   "provenance": []
  },
  "kernelspec": {
   "display_name": "Python 3",
   "language": "python",
   "name": "python3"
  },
  "language_info": {
   "codemirror_mode": {
    "name": "ipython",
    "version": 3
   },
   "file_extension": ".py",
   "mimetype": "text/x-python",
   "name": "python",
   "nbconvert_exporter": "python",
   "pygments_lexer": "ipython3",
   "version": "3.8.5"
  }
 },
 "nbformat": 4,
 "nbformat_minor": 4
}
